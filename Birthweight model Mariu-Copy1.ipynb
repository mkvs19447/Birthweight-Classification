{
 "cells": [
  {
   "cell_type": "code",
   "execution_count": 1,
   "id": "249bec4b",
   "metadata": {},
   "outputs": [
    {
     "data": {
      "text/html": [
       "<div>\n",
       "<style scoped>\n",
       "    .dataframe tbody tr th:only-of-type {\n",
       "        vertical-align: middle;\n",
       "    }\n",
       "\n",
       "    .dataframe tbody tr th {\n",
       "        vertical-align: top;\n",
       "    }\n",
       "\n",
       "    .dataframe thead th {\n",
       "        text-align: right;\n",
       "    }\n",
       "</style>\n",
       "<table border=\"1\" class=\"dataframe\">\n",
       "  <thead>\n",
       "    <tr style=\"text-align: right;\">\n",
       "      <th></th>\n",
       "      <th>mage</th>\n",
       "      <th>meduc</th>\n",
       "      <th>monpre</th>\n",
       "      <th>npvis</th>\n",
       "      <th>fage</th>\n",
       "      <th>feduc</th>\n",
       "      <th>omaps</th>\n",
       "      <th>fmaps</th>\n",
       "      <th>cigs</th>\n",
       "      <th>drink</th>\n",
       "      <th>male</th>\n",
       "      <th>mwhte</th>\n",
       "      <th>mblck</th>\n",
       "      <th>moth</th>\n",
       "      <th>fwhte</th>\n",
       "      <th>fblck</th>\n",
       "      <th>foth</th>\n",
       "      <th>bwght</th>\n",
       "    </tr>\n",
       "  </thead>\n",
       "  <tbody>\n",
       "    <tr>\n",
       "      <th>0</th>\n",
       "      <td>69</td>\n",
       "      <td>NaN</td>\n",
       "      <td>5</td>\n",
       "      <td>2.0</td>\n",
       "      <td>62</td>\n",
       "      <td>NaN</td>\n",
       "      <td>4</td>\n",
       "      <td>7</td>\n",
       "      <td>23</td>\n",
       "      <td>9</td>\n",
       "      <td>1</td>\n",
       "      <td>0</td>\n",
       "      <td>1</td>\n",
       "      <td>0</td>\n",
       "      <td>0</td>\n",
       "      <td>1</td>\n",
       "      <td>0</td>\n",
       "      <td>697</td>\n",
       "    </tr>\n",
       "    <tr>\n",
       "      <th>1</th>\n",
       "      <td>68</td>\n",
       "      <td>12.0</td>\n",
       "      <td>3</td>\n",
       "      <td>10.0</td>\n",
       "      <td>61</td>\n",
       "      <td>11.0</td>\n",
       "      <td>4</td>\n",
       "      <td>6</td>\n",
       "      <td>25</td>\n",
       "      <td>11</td>\n",
       "      <td>1</td>\n",
       "      <td>1</td>\n",
       "      <td>0</td>\n",
       "      <td>0</td>\n",
       "      <td>1</td>\n",
       "      <td>0</td>\n",
       "      <td>0</td>\n",
       "      <td>1290</td>\n",
       "    </tr>\n",
       "    <tr>\n",
       "      <th>2</th>\n",
       "      <td>71</td>\n",
       "      <td>12.0</td>\n",
       "      <td>3</td>\n",
       "      <td>6.0</td>\n",
       "      <td>46</td>\n",
       "      <td>12.0</td>\n",
       "      <td>2</td>\n",
       "      <td>7</td>\n",
       "      <td>21</td>\n",
       "      <td>12</td>\n",
       "      <td>1</td>\n",
       "      <td>0</td>\n",
       "      <td>1</td>\n",
       "      <td>0</td>\n",
       "      <td>0</td>\n",
       "      <td>1</td>\n",
       "      <td>0</td>\n",
       "      <td>1490</td>\n",
       "    </tr>\n",
       "    <tr>\n",
       "      <th>3</th>\n",
       "      <td>59</td>\n",
       "      <td>16.0</td>\n",
       "      <td>1</td>\n",
       "      <td>8.0</td>\n",
       "      <td>48</td>\n",
       "      <td>16.0</td>\n",
       "      <td>7</td>\n",
       "      <td>8</td>\n",
       "      <td>21</td>\n",
       "      <td>10</td>\n",
       "      <td>0</td>\n",
       "      <td>0</td>\n",
       "      <td>0</td>\n",
       "      <td>1</td>\n",
       "      <td>0</td>\n",
       "      <td>0</td>\n",
       "      <td>1</td>\n",
       "      <td>1720</td>\n",
       "    </tr>\n",
       "    <tr>\n",
       "      <th>4</th>\n",
       "      <td>48</td>\n",
       "      <td>12.0</td>\n",
       "      <td>4</td>\n",
       "      <td>6.0</td>\n",
       "      <td>39</td>\n",
       "      <td>12.0</td>\n",
       "      <td>2</td>\n",
       "      <td>9</td>\n",
       "      <td>17</td>\n",
       "      <td>13</td>\n",
       "      <td>0</td>\n",
       "      <td>1</td>\n",
       "      <td>0</td>\n",
       "      <td>0</td>\n",
       "      <td>1</td>\n",
       "      <td>0</td>\n",
       "      <td>0</td>\n",
       "      <td>1956</td>\n",
       "    </tr>\n",
       "    <tr>\n",
       "      <th>5</th>\n",
       "      <td>67</td>\n",
       "      <td>11.0</td>\n",
       "      <td>4</td>\n",
       "      <td>8.0</td>\n",
       "      <td>40</td>\n",
       "      <td>8.0</td>\n",
       "      <td>4</td>\n",
       "      <td>9</td>\n",
       "      <td>16</td>\n",
       "      <td>14</td>\n",
       "      <td>0</td>\n",
       "      <td>1</td>\n",
       "      <td>0</td>\n",
       "      <td>0</td>\n",
       "      <td>1</td>\n",
       "      <td>0</td>\n",
       "      <td>0</td>\n",
       "      <td>1984</td>\n",
       "    </tr>\n",
       "    <tr>\n",
       "      <th>6</th>\n",
       "      <td>54</td>\n",
       "      <td>12.0</td>\n",
       "      <td>2</td>\n",
       "      <td>12.0</td>\n",
       "      <td>46</td>\n",
       "      <td>12.0</td>\n",
       "      <td>9</td>\n",
       "      <td>9</td>\n",
       "      <td>17</td>\n",
       "      <td>12</td>\n",
       "      <td>1</td>\n",
       "      <td>0</td>\n",
       "      <td>1</td>\n",
       "      <td>0</td>\n",
       "      <td>0</td>\n",
       "      <td>1</td>\n",
       "      <td>0</td>\n",
       "      <td>2050</td>\n",
       "    </tr>\n",
       "    <tr>\n",
       "      <th>7</th>\n",
       "      <td>71</td>\n",
       "      <td>14.0</td>\n",
       "      <td>4</td>\n",
       "      <td>7.0</td>\n",
       "      <td>51</td>\n",
       "      <td>11.0</td>\n",
       "      <td>9</td>\n",
       "      <td>8</td>\n",
       "      <td>15</td>\n",
       "      <td>13</td>\n",
       "      <td>0</td>\n",
       "      <td>1</td>\n",
       "      <td>0</td>\n",
       "      <td>0</td>\n",
       "      <td>1</td>\n",
       "      <td>0</td>\n",
       "      <td>0</td>\n",
       "      <td>2068</td>\n",
       "    </tr>\n",
       "    <tr>\n",
       "      <th>8</th>\n",
       "      <td>56</td>\n",
       "      <td>12.0</td>\n",
       "      <td>1</td>\n",
       "      <td>9.0</td>\n",
       "      <td>53</td>\n",
       "      <td>14.0</td>\n",
       "      <td>8</td>\n",
       "      <td>9</td>\n",
       "      <td>14</td>\n",
       "      <td>9</td>\n",
       "      <td>1</td>\n",
       "      <td>1</td>\n",
       "      <td>0</td>\n",
       "      <td>0</td>\n",
       "      <td>1</td>\n",
       "      <td>0</td>\n",
       "      <td>0</td>\n",
       "      <td>2148</td>\n",
       "    </tr>\n",
       "    <tr>\n",
       "      <th>9</th>\n",
       "      <td>58</td>\n",
       "      <td>12.0</td>\n",
       "      <td>2</td>\n",
       "      <td>12.0</td>\n",
       "      <td>61</td>\n",
       "      <td>16.0</td>\n",
       "      <td>9</td>\n",
       "      <td>9</td>\n",
       "      <td>13</td>\n",
       "      <td>6</td>\n",
       "      <td>0</td>\n",
       "      <td>0</td>\n",
       "      <td>1</td>\n",
       "      <td>0</td>\n",
       "      <td>0</td>\n",
       "      <td>1</td>\n",
       "      <td>0</td>\n",
       "      <td>2180</td>\n",
       "    </tr>\n",
       "  </tbody>\n",
       "</table>\n",
       "</div>"
      ],
      "text/plain": [
       "   mage  meduc  monpre  npvis  fage  feduc  omaps  fmaps  cigs  drink  male  mwhte  mblck  moth  fwhte  fblck  foth  bwght\n",
       "0    69    NaN       5    2.0    62    NaN      4      7    23      9     1      0      1     0      0      1     0    697\n",
       "1    68   12.0       3   10.0    61   11.0      4      6    25     11     1      1      0     0      1      0     0   1290\n",
       "2    71   12.0       3    6.0    46   12.0      2      7    21     12     1      0      1     0      0      1     0   1490\n",
       "3    59   16.0       1    8.0    48   16.0      7      8    21     10     0      0      0     1      0      0     1   1720\n",
       "4    48   12.0       4    6.0    39   12.0      2      9    17     13     0      1      0     0      1      0     0   1956\n",
       "5    67   11.0       4    8.0    40    8.0      4      9    16     14     0      1      0     0      1      0     0   1984\n",
       "6    54   12.0       2   12.0    46   12.0      9      9    17     12     1      0      1     0      0      1     0   2050\n",
       "7    71   14.0       4    7.0    51   11.0      9      8    15     13     0      1      0     0      1      0     0   2068\n",
       "8    56   12.0       1    9.0    53   14.0      8      9    14      9     1      1      0     0      1      0     0   2148\n",
       "9    58   12.0       2   12.0    61   16.0      9      9    13      6     0      0      1     0      0      1     0   2180"
      ]
     },
     "execution_count": 1,
     "metadata": {},
     "output_type": "execute_result"
    }
   ],
   "source": [
    "\"\"\"Mariu Viloria\n",
    "November 24, 2020\n",
    "\"\"\"\n",
    "\n",
    "\n",
    "\n",
    "\n",
    "\n",
    "# importing libraries\n",
    "import pandas as pd # data science essentials\n",
    "import matplotlib.pyplot as plt # essential graphical output\n",
    "import seaborn as sns # enhanced graphical output\n",
    "from pandas.plotting import scatter_matrix\n",
    "import statsmodels.formula.api as smf\n",
    "from sklearn.model_selection import train_test_split\n",
    "import numpy as np\n",
    "from sklearn.linear_model import LinearRegression\n",
    "from sklearn.linear_model import Lasso\n",
    "import sklearn.linear_model\n",
    "\n",
    "# setting pandas print options\n",
    "pd.set_option('display.max_rows', 500)\n",
    "pd.set_option('display.max_columns', 500)\n",
    "pd.set_option('display.width', 1000)\n",
    "\n",
    "\n",
    "# specifying file name\n",
    "file = '/Users/mariuviloria/Desktop/MACHINE LEARNING/birthweight_low.xlsx'\n",
    "\n",
    "\n",
    "# reading the file into Python\n",
    "birth = pd.read_excel(io=file, sheet_name=0)\n",
    "\n",
    "\n",
    "# outputting the first ten rows of the dataset\n",
    "birth.head(n=10)"
   ]
  },
  {
   "cell_type": "code",
   "execution_count": 2,
   "id": "fc8a2de0",
   "metadata": {},
   "outputs": [
    {
     "name": "stdout",
     "output_type": "stream",
     "text": [
      "<class 'pandas.core.frame.DataFrame'>\n",
      "RangeIndex: 196 entries, 0 to 195\n",
      "Data columns (total 18 columns):\n",
      " #   Column  Non-Null Count  Dtype  \n",
      "---  ------  --------------  -----  \n",
      " 0   mage    196 non-null    int64  \n",
      " 1   meduc   193 non-null    float64\n",
      " 2   monpre  196 non-null    int64  \n",
      " 3   npvis   193 non-null    float64\n",
      " 4   fage    196 non-null    int64  \n",
      " 5   feduc   189 non-null    float64\n",
      " 6   omaps   196 non-null    int64  \n",
      " 7   fmaps   196 non-null    int64  \n",
      " 8   cigs    196 non-null    int64  \n",
      " 9   drink   196 non-null    int64  \n",
      " 10  male    196 non-null    int64  \n",
      " 11  mwhte   196 non-null    int64  \n",
      " 12  mblck   196 non-null    int64  \n",
      " 13  moth    196 non-null    int64  \n",
      " 14  fwhte   196 non-null    int64  \n",
      " 15  fblck   196 non-null    int64  \n",
      " 16  foth    196 non-null    int64  \n",
      " 17  bwght   196 non-null    int64  \n",
      "dtypes: float64(3), int64(15)\n",
      "memory usage: 27.7 KB\n"
     ]
    }
   ],
   "source": [
    "birth.info()"
   ]
  },
  {
   "cell_type": "markdown",
   "id": "441f054f",
   "metadata": {},
   "source": [
    "# Classifying Variables and Flagging Missing Values"
   ]
  },
  {
   "cell_type": "markdown",
   "id": "d3c6e2ea",
   "metadata": {},
   "source": [
    "Understanding our Data, and missing values as a first step.\n",
    "\n",
    "CONTINUOUS\n",
    "----------\n",
    "mage\n",
    "fage\n",
    "bwght\n",
    "\n",
    "INTERVAL/COUNT\n",
    "--------------\n",
    "monpre\n",
    "npvis\n",
    "drink\n",
    "cigs\n",
    "feduc\n",
    "meduc\n",
    "\n",
    "CATEGORICAL/OTHER\n",
    "-----------------\n",
    "male\n",
    "mwhte\n",
    "fwhte\n",
    "mblck\n",
    "fblck\n",
    "moth\n",
    "foth\n",
    "\n",
    "**NOT USED FOR THIS MODEL** as these happen after the baby is born. It is not useful for the prediction model. \n",
    "Omaps\n",
    "Fmaps\n"
   ]
  },
  {
   "cell_type": "code",
   "execution_count": 3,
   "id": "26b20526",
   "metadata": {},
   "outputs": [
    {
     "data": {
      "text/plain": [
       "m_meduc    3\n",
       "m_npvis    3\n",
       "m_feduc    7\n",
       "dtype: int64"
      ]
     },
     "execution_count": 3,
     "metadata": {},
     "output_type": "execute_result"
    }
   ],
   "source": [
    "#loop to FLAG MISSING VALUES\n",
    "\n",
    "for col in birth:\n",
    "\n",
    "    # creating columns with 1s if missing and 0 if not\n",
    "    if birth[col].isnull().astype(int).sum() > 0:\n",
    "        birth['m_'+col] = birth[col].isnull().astype(int)\n",
    "birth.iloc[:, -3:].sum(axis=0)"
   ]
  },
  {
   "cell_type": "markdown",
   "id": "6eadc9e5",
   "metadata": {},
   "source": [
    "Missing values are within 3 Interval/Count data, evaluating these 3 variables \n",
    "independently to understand which value to fill in with. We are making a new data frame\n",
    "without the missing values to evaluate which measure to use to fill in missing values."
   ]
  },
  {
   "cell_type": "code",
   "execution_count": 4,
   "id": "07bff647",
   "metadata": {},
   "outputs": [
    {
     "name": "stdout",
     "output_type": "stream",
     "text": [
      "mage       0\n",
      "meduc      0\n",
      "monpre     0\n",
      "npvis      0\n",
      "fage       0\n",
      "feduc      0\n",
      "omaps      0\n",
      "fmaps      0\n",
      "cigs       0\n",
      "drink      0\n",
      "male       0\n",
      "mwhte      0\n",
      "mblck      0\n",
      "moth       0\n",
      "fwhte      0\n",
      "fblck      0\n",
      "foth       0\n",
      "bwght      0\n",
      "m_meduc    0\n",
      "m_npvis    0\n",
      "m_feduc    0\n",
      "dtype: int64\n"
     ]
    }
   ],
   "source": [
    "# the following code makes the new DataFrame independent, we are making a copy\n",
    "df_dropped = pd.DataFrame.copy(birth)\n",
    "\n",
    "\n",
    "# using dropna() for df_dropped  , it will delete the whole observation\n",
    "df_dropped = df_dropped.dropna().round(2)\n",
    "\n",
    "\n",
    "# checking to see if all missing values have been dropped\n",
    "print(df_dropped.isnull().sum())\n"
   ]
  },
  {
   "cell_type": "code",
   "execution_count": 5,
   "id": "69edd66d",
   "metadata": {},
   "outputs": [
    {
     "data": {
      "text/html": [
       "<div>\n",
       "<style scoped>\n",
       "    .dataframe tbody tr th:only-of-type {\n",
       "        vertical-align: middle;\n",
       "    }\n",
       "\n",
       "    .dataframe tbody tr th {\n",
       "        vertical-align: top;\n",
       "    }\n",
       "\n",
       "    .dataframe thead th {\n",
       "        text-align: right;\n",
       "    }\n",
       "</style>\n",
       "<table border=\"1\" class=\"dataframe\">\n",
       "  <thead>\n",
       "    <tr style=\"text-align: right;\">\n",
       "      <th></th>\n",
       "      <th>mage</th>\n",
       "      <th>meduc</th>\n",
       "      <th>monpre</th>\n",
       "      <th>npvis</th>\n",
       "      <th>fage</th>\n",
       "      <th>feduc</th>\n",
       "      <th>omaps</th>\n",
       "      <th>fmaps</th>\n",
       "      <th>cigs</th>\n",
       "      <th>drink</th>\n",
       "      <th>male</th>\n",
       "      <th>mwhte</th>\n",
       "      <th>mblck</th>\n",
       "      <th>moth</th>\n",
       "      <th>fwhte</th>\n",
       "      <th>fblck</th>\n",
       "      <th>foth</th>\n",
       "      <th>bwght</th>\n",
       "      <th>m_meduc</th>\n",
       "      <th>m_npvis</th>\n",
       "      <th>m_feduc</th>\n",
       "    </tr>\n",
       "  </thead>\n",
       "  <tbody>\n",
       "    <tr>\n",
       "      <th>count</th>\n",
       "      <td>186.00</td>\n",
       "      <td>186.00</td>\n",
       "      <td>186.00</td>\n",
       "      <td>186.00</td>\n",
       "      <td>186.00</td>\n",
       "      <td>186.00</td>\n",
       "      <td>186.00</td>\n",
       "      <td>186.00</td>\n",
       "      <td>186.00</td>\n",
       "      <td>186.00</td>\n",
       "      <td>186.00</td>\n",
       "      <td>186.00</td>\n",
       "      <td>186.00</td>\n",
       "      <td>186.00</td>\n",
       "      <td>186.00</td>\n",
       "      <td>186.00</td>\n",
       "      <td>186.00</td>\n",
       "      <td>186.00</td>\n",
       "      <td>186.0</td>\n",
       "      <td>186.0</td>\n",
       "      <td>186.0</td>\n",
       "    </tr>\n",
       "    <tr>\n",
       "      <th>mean</th>\n",
       "      <td>39.99</td>\n",
       "      <td>13.94</td>\n",
       "      <td>2.25</td>\n",
       "      <td>11.75</td>\n",
       "      <td>39.38</td>\n",
       "      <td>13.81</td>\n",
       "      <td>8.24</td>\n",
       "      <td>8.98</td>\n",
       "      <td>10.91</td>\n",
       "      <td>5.45</td>\n",
       "      <td>0.54</td>\n",
       "      <td>0.28</td>\n",
       "      <td>0.37</td>\n",
       "      <td>0.35</td>\n",
       "      <td>0.36</td>\n",
       "      <td>0.35</td>\n",
       "      <td>0.29</td>\n",
       "      <td>3329.23</td>\n",
       "      <td>0.0</td>\n",
       "      <td>0.0</td>\n",
       "      <td>0.0</td>\n",
       "    </tr>\n",
       "    <tr>\n",
       "      <th>std</th>\n",
       "      <td>10.22</td>\n",
       "      <td>2.06</td>\n",
       "      <td>1.21</td>\n",
       "      <td>4.23</td>\n",
       "      <td>8.97</td>\n",
       "      <td>2.63</td>\n",
       "      <td>1.56</td>\n",
       "      <td>0.64</td>\n",
       "      <td>6.04</td>\n",
       "      <td>2.98</td>\n",
       "      <td>0.50</td>\n",
       "      <td>0.45</td>\n",
       "      <td>0.48</td>\n",
       "      <td>0.48</td>\n",
       "      <td>0.48</td>\n",
       "      <td>0.48</td>\n",
       "      <td>0.46</td>\n",
       "      <td>621.40</td>\n",
       "      <td>0.0</td>\n",
       "      <td>0.0</td>\n",
       "      <td>0.0</td>\n",
       "    </tr>\n",
       "    <tr>\n",
       "      <th>min</th>\n",
       "      <td>23.00</td>\n",
       "      <td>8.00</td>\n",
       "      <td>1.00</td>\n",
       "      <td>3.00</td>\n",
       "      <td>23.00</td>\n",
       "      <td>1.00</td>\n",
       "      <td>2.00</td>\n",
       "      <td>5.00</td>\n",
       "      <td>0.00</td>\n",
       "      <td>0.00</td>\n",
       "      <td>0.00</td>\n",
       "      <td>0.00</td>\n",
       "      <td>0.00</td>\n",
       "      <td>0.00</td>\n",
       "      <td>0.00</td>\n",
       "      <td>0.00</td>\n",
       "      <td>0.00</td>\n",
       "      <td>1290.00</td>\n",
       "      <td>0.0</td>\n",
       "      <td>0.0</td>\n",
       "      <td>0.0</td>\n",
       "    </tr>\n",
       "    <tr>\n",
       "      <th>25%</th>\n",
       "      <td>33.00</td>\n",
       "      <td>12.00</td>\n",
       "      <td>2.00</td>\n",
       "      <td>10.00</td>\n",
       "      <td>35.00</td>\n",
       "      <td>12.00</td>\n",
       "      <td>8.00</td>\n",
       "      <td>9.00</td>\n",
       "      <td>6.00</td>\n",
       "      <td>4.00</td>\n",
       "      <td>0.00</td>\n",
       "      <td>0.00</td>\n",
       "      <td>0.00</td>\n",
       "      <td>0.00</td>\n",
       "      <td>0.00</td>\n",
       "      <td>0.00</td>\n",
       "      <td>0.00</td>\n",
       "      <td>2901.25</td>\n",
       "      <td>0.0</td>\n",
       "      <td>0.0</td>\n",
       "      <td>0.0</td>\n",
       "    </tr>\n",
       "    <tr>\n",
       "      <th>50%</th>\n",
       "      <td>39.00</td>\n",
       "      <td>14.00</td>\n",
       "      <td>2.00</td>\n",
       "      <td>12.00</td>\n",
       "      <td>38.00</td>\n",
       "      <td>14.00</td>\n",
       "      <td>9.00</td>\n",
       "      <td>9.00</td>\n",
       "      <td>11.00</td>\n",
       "      <td>5.00</td>\n",
       "      <td>1.00</td>\n",
       "      <td>0.00</td>\n",
       "      <td>0.00</td>\n",
       "      <td>0.00</td>\n",
       "      <td>0.00</td>\n",
       "      <td>0.00</td>\n",
       "      <td>0.00</td>\n",
       "      <td>3435.00</td>\n",
       "      <td>0.0</td>\n",
       "      <td>0.0</td>\n",
       "      <td>0.0</td>\n",
       "    </tr>\n",
       "    <tr>\n",
       "      <th>75%</th>\n",
       "      <td>45.75</td>\n",
       "      <td>16.00</td>\n",
       "      <td>3.00</td>\n",
       "      <td>12.00</td>\n",
       "      <td>43.00</td>\n",
       "      <td>16.00</td>\n",
       "      <td>9.00</td>\n",
       "      <td>9.00</td>\n",
       "      <td>15.00</td>\n",
       "      <td>7.75</td>\n",
       "      <td>1.00</td>\n",
       "      <td>1.00</td>\n",
       "      <td>1.00</td>\n",
       "      <td>1.00</td>\n",
       "      <td>1.00</td>\n",
       "      <td>1.00</td>\n",
       "      <td>1.00</td>\n",
       "      <td>3745.00</td>\n",
       "      <td>0.0</td>\n",
       "      <td>0.0</td>\n",
       "      <td>0.0</td>\n",
       "    </tr>\n",
       "    <tr>\n",
       "      <th>max</th>\n",
       "      <td>71.00</td>\n",
       "      <td>17.00</td>\n",
       "      <td>8.00</td>\n",
       "      <td>35.00</td>\n",
       "      <td>73.00</td>\n",
       "      <td>17.00</td>\n",
       "      <td>10.00</td>\n",
       "      <td>10.00</td>\n",
       "      <td>25.00</td>\n",
       "      <td>14.00</td>\n",
       "      <td>1.00</td>\n",
       "      <td>1.00</td>\n",
       "      <td>1.00</td>\n",
       "      <td>1.00</td>\n",
       "      <td>1.00</td>\n",
       "      <td>1.00</td>\n",
       "      <td>1.00</td>\n",
       "      <td>4933.00</td>\n",
       "      <td>0.0</td>\n",
       "      <td>0.0</td>\n",
       "      <td>0.0</td>\n",
       "    </tr>\n",
       "  </tbody>\n",
       "</table>\n",
       "</div>"
      ],
      "text/plain": [
       "         mage   meduc  monpre   npvis    fage   feduc   omaps   fmaps    cigs   drink    male   mwhte   mblck    moth   fwhte   fblck    foth    bwght  m_meduc  m_npvis  m_feduc\n",
       "count  186.00  186.00  186.00  186.00  186.00  186.00  186.00  186.00  186.00  186.00  186.00  186.00  186.00  186.00  186.00  186.00  186.00   186.00    186.0    186.0    186.0\n",
       "mean    39.99   13.94    2.25   11.75   39.38   13.81    8.24    8.98   10.91    5.45    0.54    0.28    0.37    0.35    0.36    0.35    0.29  3329.23      0.0      0.0      0.0\n",
       "std     10.22    2.06    1.21    4.23    8.97    2.63    1.56    0.64    6.04    2.98    0.50    0.45    0.48    0.48    0.48    0.48    0.46   621.40      0.0      0.0      0.0\n",
       "min     23.00    8.00    1.00    3.00   23.00    1.00    2.00    5.00    0.00    0.00    0.00    0.00    0.00    0.00    0.00    0.00    0.00  1290.00      0.0      0.0      0.0\n",
       "25%     33.00   12.00    2.00   10.00   35.00   12.00    8.00    9.00    6.00    4.00    0.00    0.00    0.00    0.00    0.00    0.00    0.00  2901.25      0.0      0.0      0.0\n",
       "50%     39.00   14.00    2.00   12.00   38.00   14.00    9.00    9.00   11.00    5.00    1.00    0.00    0.00    0.00    0.00    0.00    0.00  3435.00      0.0      0.0      0.0\n",
       "75%     45.75   16.00    3.00   12.00   43.00   16.00    9.00    9.00   15.00    7.75    1.00    1.00    1.00    1.00    1.00    1.00    1.00  3745.00      0.0      0.0      0.0\n",
       "max     71.00   17.00    8.00   35.00   73.00   17.00   10.00   10.00   25.00   14.00    1.00    1.00    1.00    1.00    1.00    1.00    1.00  4933.00      0.0      0.0      0.0"
      ]
     },
     "execution_count": 5,
     "metadata": {},
     "output_type": "execute_result"
    }
   ],
   "source": [
    "df_dropped.describe(include='number').round(decimals=2)"
   ]
  },
  {
   "cell_type": "code",
   "execution_count": 6,
   "id": "cb64aef4",
   "metadata": {
    "cell_style": "split"
   },
   "outputs": [
    {
     "data": {
      "image/png": "[encoded data removed]",
      "text/plain": [
       "<Figure size 432x288 with 1 Axes>"
      ]
     },
     "metadata": {
      "needs_background": "light"
     },
     "output_type": "display_data"
    }
   ],
   "source": [
    "#create a visualization for variable\n",
    "sns.histplot(data   = birth,\n",
    "          x      = 'meduc',\n",
    "          kde    = True)\n",
    "\n",
    "\n",
    "# title and axis labels\n",
    "plt.title(label   = \"Distribution of Mother Education\")\n",
    "plt.xlabel(xlabel = \"Mother Education\") \n",
    "plt.ylabel(ylabel = \"Count\")\n",
    "\n",
    "#understand mean and median variance\n",
    "plt.axvline(x = df_dropped['meduc'].mean(),\n",
    "            color = 'red')\n",
    "\n",
    "\n",
    "plt.axvline(x = df_dropped['meduc'].median(),\n",
    "            color = 'blue')\n",
    "\n",
    "\n",
    "# displaying the histogram\n",
    "plt.show()"
   ]
  },
  {
   "cell_type": "code",
   "execution_count": 7,
   "id": "fa09c8e6",
   "metadata": {
    "cell_style": "split"
   },
   "outputs": [
    {
     "data": {
      "image/png": "[encoded data removed]",
      "text/plain": [
       "<Figure size 432x288 with 1 Axes>"
      ]
     },
     "metadata": {
      "needs_background": "light"
     },
     "output_type": "display_data"
    }
   ],
   "source": [
    "#create a visualization for variable\n",
    "\n",
    "sns.histplot(data   = birth,\n",
    "          x      = 'feduc',\n",
    "          kde    = True)\n",
    "\n",
    "\n",
    "# title and axis labels\n",
    "plt.title(label   = \"Distribution of Father Education\")\n",
    "plt.xlabel(xlabel = \"Father Education\") \n",
    "plt.ylabel(ylabel = \"Count\")\n",
    "\n",
    "#understand mean and median variance\n",
    "plt.axvline(x = df_dropped['feduc'].mean(),\n",
    "            color = 'red')\n",
    "\n",
    "\n",
    "plt.axvline(x = df_dropped['feduc'].median(),\n",
    "            color = 'blue')\n",
    "# displaying the histogram\n",
    "plt.show()"
   ]
  },
  {
   "cell_type": "code",
   "execution_count": 8,
   "id": "c6f0b811",
   "metadata": {
    "cell_style": "split"
   },
   "outputs": [
    {
     "data": {
      "image/png": "[encoded data removed]",
      "text/plain": [
       "<Figure size 432x288 with 1 Axes>"
      ]
     },
     "metadata": {
      "needs_background": "light"
     },
     "output_type": "display_data"
    }
   ],
   "source": [
    "#create a visualization for variable\n",
    "\n",
    "sns.histplot(data   = birth,\n",
    "          x      = 'npvis',\n",
    "          kde    = True)\n",
    "\n",
    "\n",
    "# title and axis labels\n",
    "plt.title(label   = \"Distribution of PreNatal Visits\")\n",
    "plt.xlabel(xlabel = \"PreNatal Visits\") \n",
    "plt.ylabel(ylabel = \"Count\")\n",
    "\n",
    "#understand mean and median variance\n",
    "plt.axvline(x = df_dropped['npvis'].mean(),\n",
    "            color = 'red')\n",
    "\n",
    "\n",
    "plt.axvline(x = df_dropped['npvis'].median(),\n",
    "            color = 'blue')\n",
    "# displaying the histogram\n",
    "plt.show()"
   ]
  },
  {
   "cell_type": "markdown",
   "id": "a4fa397f",
   "metadata": {
    "cell_style": "center"
   },
   "source": [
    "There is not much variance between mean and median for any of these variables, however feduc and meduc present some little skewness to the left and npvis to the right, I choose to fill in the values with the **median()** of each feature. "
   ]
  },
  {
   "cell_type": "markdown",
   "id": "a9d004ae",
   "metadata": {},
   "source": [
    "# Replace missing Values"
   ]
  },
  {
   "cell_type": "code",
   "execution_count": 9,
   "id": "403196e3",
   "metadata": {},
   "outputs": [
    {
     "data": {
      "text/plain": [
       "0"
      ]
     },
     "execution_count": 9,
     "metadata": {},
     "output_type": "execute_result"
    }
   ],
   "source": [
    "#replacing missing values with median \n",
    "miss_feduc= birth['feduc'].median()\n",
    "\n",
    "birth.loc[:,'feduc'].fillna(value=miss_feduc , inplace=True)\n",
    "\n",
    "#double check missing values where replaced\n",
    "birth.loc[:,'feduc'].isnull().sum(axis=0)"
   ]
  },
  {
   "cell_type": "code",
   "execution_count": 10,
   "id": "5de215ef",
   "metadata": {},
   "outputs": [
    {
     "data": {
      "text/plain": [
       "0"
      ]
     },
     "execution_count": 10,
     "metadata": {},
     "output_type": "execute_result"
    }
   ],
   "source": [
    "#replacing missing values with median\n",
    "\n",
    "miss_npvis= birth['npvis'].median()\n",
    "birth.loc[:,'npvis'].fillna(value=miss_npvis,inplace=True )\n",
    "\n",
    "#double check missing values where replaced\n",
    "birth.loc[:,'npvis'].isnull().sum(axis=0)"
   ]
  },
  {
   "cell_type": "code",
   "execution_count": 11,
   "id": "aaefff9b",
   "metadata": {},
   "outputs": [
    {
     "data": {
      "text/plain": [
       "0"
      ]
     },
     "execution_count": 11,
     "metadata": {},
     "output_type": "execute_result"
    }
   ],
   "source": [
    "#replacing missing values with median\n",
    "miss_meduc= birth['meduc'].median()\n",
    "birth.loc[:,'meduc'].fillna(value=miss_meduc,inplace=True )\n",
    "\n",
    "#double check missing values where replaced\n",
    "\n",
    "birth.loc[:,'meduc'].isnull().sum(axis=0)"
   ]
  },
  {
   "cell_type": "code",
   "execution_count": 12,
   "id": "50abc4f5",
   "metadata": {},
   "outputs": [
    {
     "data": {
      "text/plain": [
       "mage       False\n",
       "meduc      False\n",
       "monpre     False\n",
       "npvis      False\n",
       "fage       False\n",
       "feduc      False\n",
       "omaps      False\n",
       "fmaps      False\n",
       "cigs       False\n",
       "drink      False\n",
       "male       False\n",
       "mwhte      False\n",
       "mblck      False\n",
       "moth       False\n",
       "fwhte      False\n",
       "fblck      False\n",
       "foth       False\n",
       "bwght      False\n",
       "m_meduc    False\n",
       "m_npvis    False\n",
       "m_feduc    False\n",
       "dtype: bool"
      ]
     },
     "execution_count": 12,
     "metadata": {},
     "output_type": "execute_result"
    }
   ],
   "source": [
    "#Double checking all null values have been filled in.\n",
    "birth.isnull().any()"
   ]
  },
  {
   "cell_type": "code",
   "execution_count": 13,
   "id": "e6ae9c04",
   "metadata": {},
   "outputs": [
    {
     "data": {
      "text/html": [
       "<div>\n",
       "<style scoped>\n",
       "    .dataframe tbody tr th:only-of-type {\n",
       "        vertical-align: middle;\n",
       "    }\n",
       "\n",
       "    .dataframe tbody tr th {\n",
       "        vertical-align: top;\n",
       "    }\n",
       "\n",
       "    .dataframe thead th {\n",
       "        text-align: right;\n",
       "    }\n",
       "</style>\n",
       "<table border=\"1\" class=\"dataframe\">\n",
       "  <thead>\n",
       "    <tr style=\"text-align: right;\">\n",
       "      <th></th>\n",
       "      <th>mage</th>\n",
       "      <th>meduc</th>\n",
       "      <th>monpre</th>\n",
       "      <th>npvis</th>\n",
       "      <th>fage</th>\n",
       "      <th>feduc</th>\n",
       "      <th>omaps</th>\n",
       "      <th>fmaps</th>\n",
       "      <th>cigs</th>\n",
       "      <th>drink</th>\n",
       "      <th>male</th>\n",
       "      <th>mwhte</th>\n",
       "      <th>mblck</th>\n",
       "      <th>moth</th>\n",
       "      <th>fwhte</th>\n",
       "      <th>fblck</th>\n",
       "      <th>foth</th>\n",
       "      <th>bwght</th>\n",
       "      <th>m_meduc</th>\n",
       "      <th>m_npvis</th>\n",
       "      <th>m_feduc</th>\n",
       "    </tr>\n",
       "  </thead>\n",
       "  <tbody>\n",
       "    <tr>\n",
       "      <th>count</th>\n",
       "      <td>196.000000</td>\n",
       "      <td>196.000000</td>\n",
       "      <td>196.000000</td>\n",
       "      <td>196.000000</td>\n",
       "      <td>196.000000</td>\n",
       "      <td>196.000000</td>\n",
       "      <td>196.000000</td>\n",
       "      <td>196.000000</td>\n",
       "      <td>196.000000</td>\n",
       "      <td>196.000000</td>\n",
       "      <td>196.000000</td>\n",
       "      <td>196.000000</td>\n",
       "      <td>196.000000</td>\n",
       "      <td>196.000000</td>\n",
       "      <td>196.000000</td>\n",
       "      <td>196.000000</td>\n",
       "      <td>196.000000</td>\n",
       "      <td>196.000000</td>\n",
       "      <td>196.000000</td>\n",
       "      <td>196.000000</td>\n",
       "      <td>196.000000</td>\n",
       "    </tr>\n",
       "    <tr>\n",
       "      <th>mean</th>\n",
       "      <td>40.153061</td>\n",
       "      <td>13.913265</td>\n",
       "      <td>2.341837</td>\n",
       "      <td>11.607143</td>\n",
       "      <td>39.290816</td>\n",
       "      <td>13.852041</td>\n",
       "      <td>8.193878</td>\n",
       "      <td>8.964286</td>\n",
       "      <td>10.928571</td>\n",
       "      <td>5.397959</td>\n",
       "      <td>0.551020</td>\n",
       "      <td>0.270408</td>\n",
       "      <td>0.382653</td>\n",
       "      <td>0.346939</td>\n",
       "      <td>0.346939</td>\n",
       "      <td>0.341837</td>\n",
       "      <td>0.311224</td>\n",
       "      <td>3334.086735</td>\n",
       "      <td>0.015306</td>\n",
       "      <td>0.015306</td>\n",
       "      <td>0.035714</td>\n",
       "    </tr>\n",
       "    <tr>\n",
       "      <th>std</th>\n",
       "      <td>10.250055</td>\n",
       "      <td>2.040017</td>\n",
       "      <td>1.355136</td>\n",
       "      <td>4.234625</td>\n",
       "      <td>8.982725</td>\n",
       "      <td>2.586661</td>\n",
       "      <td>1.576482</td>\n",
       "      <td>0.651428</td>\n",
       "      <td>6.101282</td>\n",
       "      <td>3.001674</td>\n",
       "      <td>0.498664</td>\n",
       "      <td>0.445308</td>\n",
       "      <td>0.487279</td>\n",
       "      <td>0.477215</td>\n",
       "      <td>0.477215</td>\n",
       "      <td>0.475540</td>\n",
       "      <td>0.464180</td>\n",
       "      <td>646.700904</td>\n",
       "      <td>0.123082</td>\n",
       "      <td>0.123082</td>\n",
       "      <td>0.186052</td>\n",
       "    </tr>\n",
       "    <tr>\n",
       "      <th>min</th>\n",
       "      <td>23.000000</td>\n",
       "      <td>8.000000</td>\n",
       "      <td>1.000000</td>\n",
       "      <td>2.000000</td>\n",
       "      <td>23.000000</td>\n",
       "      <td>1.000000</td>\n",
       "      <td>2.000000</td>\n",
       "      <td>5.000000</td>\n",
       "      <td>0.000000</td>\n",
       "      <td>0.000000</td>\n",
       "      <td>0.000000</td>\n",
       "      <td>0.000000</td>\n",
       "      <td>0.000000</td>\n",
       "      <td>0.000000</td>\n",
       "      <td>0.000000</td>\n",
       "      <td>0.000000</td>\n",
       "      <td>0.000000</td>\n",
       "      <td>697.000000</td>\n",
       "      <td>0.000000</td>\n",
       "      <td>0.000000</td>\n",
       "      <td>0.000000</td>\n",
       "    </tr>\n",
       "    <tr>\n",
       "      <th>25%</th>\n",
       "      <td>33.000000</td>\n",
       "      <td>12.000000</td>\n",
       "      <td>2.000000</td>\n",
       "      <td>10.000000</td>\n",
       "      <td>34.750000</td>\n",
       "      <td>12.000000</td>\n",
       "      <td>8.000000</td>\n",
       "      <td>9.000000</td>\n",
       "      <td>6.000000</td>\n",
       "      <td>4.000000</td>\n",
       "      <td>0.000000</td>\n",
       "      <td>0.000000</td>\n",
       "      <td>0.000000</td>\n",
       "      <td>0.000000</td>\n",
       "      <td>0.000000</td>\n",
       "      <td>0.000000</td>\n",
       "      <td>0.000000</td>\n",
       "      <td>2916.250000</td>\n",
       "      <td>0.000000</td>\n",
       "      <td>0.000000</td>\n",
       "      <td>0.000000</td>\n",
       "    </tr>\n",
       "    <tr>\n",
       "      <th>50%</th>\n",
       "      <td>39.000000</td>\n",
       "      <td>14.000000</td>\n",
       "      <td>2.000000</td>\n",
       "      <td>12.000000</td>\n",
       "      <td>38.000000</td>\n",
       "      <td>14.000000</td>\n",
       "      <td>9.000000</td>\n",
       "      <td>9.000000</td>\n",
       "      <td>11.000000</td>\n",
       "      <td>5.000000</td>\n",
       "      <td>1.000000</td>\n",
       "      <td>0.000000</td>\n",
       "      <td>0.000000</td>\n",
       "      <td>0.000000</td>\n",
       "      <td>0.000000</td>\n",
       "      <td>0.000000</td>\n",
       "      <td>0.000000</td>\n",
       "      <td>3452.000000</td>\n",
       "      <td>0.000000</td>\n",
       "      <td>0.000000</td>\n",
       "      <td>0.000000</td>\n",
       "    </tr>\n",
       "    <tr>\n",
       "      <th>75%</th>\n",
       "      <td>46.000000</td>\n",
       "      <td>16.000000</td>\n",
       "      <td>3.000000</td>\n",
       "      <td>12.000000</td>\n",
       "      <td>43.000000</td>\n",
       "      <td>16.000000</td>\n",
       "      <td>9.000000</td>\n",
       "      <td>9.000000</td>\n",
       "      <td>15.250000</td>\n",
       "      <td>7.250000</td>\n",
       "      <td>1.000000</td>\n",
       "      <td>1.000000</td>\n",
       "      <td>1.000000</td>\n",
       "      <td>1.000000</td>\n",
       "      <td>1.000000</td>\n",
       "      <td>1.000000</td>\n",
       "      <td>1.000000</td>\n",
       "      <td>3759.500000</td>\n",
       "      <td>0.000000</td>\n",
       "      <td>0.000000</td>\n",
       "      <td>0.000000</td>\n",
       "    </tr>\n",
       "    <tr>\n",
       "      <th>max</th>\n",
       "      <td>71.000000</td>\n",
       "      <td>17.000000</td>\n",
       "      <td>8.000000</td>\n",
       "      <td>35.000000</td>\n",
       "      <td>73.000000</td>\n",
       "      <td>17.000000</td>\n",
       "      <td>10.000000</td>\n",
       "      <td>10.000000</td>\n",
       "      <td>25.000000</td>\n",
       "      <td>14.000000</td>\n",
       "      <td>1.000000</td>\n",
       "      <td>1.000000</td>\n",
       "      <td>1.000000</td>\n",
       "      <td>1.000000</td>\n",
       "      <td>1.000000</td>\n",
       "      <td>1.000000</td>\n",
       "      <td>1.000000</td>\n",
       "      <td>4933.000000</td>\n",
       "      <td>1.000000</td>\n",
       "      <td>1.000000</td>\n",
       "      <td>1.000000</td>\n",
       "    </tr>\n",
       "  </tbody>\n",
       "</table>\n",
       "</div>"
      ],
      "text/plain": [
       "             mage       meduc      monpre       npvis        fage       feduc       omaps       fmaps        cigs       drink        male       mwhte       mblck        moth       fwhte       fblck        foth        bwght     m_meduc     m_npvis     m_feduc\n",
       "count  196.000000  196.000000  196.000000  196.000000  196.000000  196.000000  196.000000  196.000000  196.000000  196.000000  196.000000  196.000000  196.000000  196.000000  196.000000  196.000000  196.000000   196.000000  196.000000  196.000000  196.000000\n",
       "mean    40.153061   13.913265    2.341837   11.607143   39.290816   13.852041    8.193878    8.964286   10.928571    5.397959    0.551020    0.270408    0.382653    0.346939    0.346939    0.341837    0.311224  3334.086735    0.015306    0.015306    0.035714\n",
       "std     10.250055    2.040017    1.355136    4.234625    8.982725    2.586661    1.576482    0.651428    6.101282    3.001674    0.498664    0.445308    0.487279    0.477215    0.477215    0.475540    0.464180   646.700904    0.123082    0.123082    0.186052\n",
       "min     23.000000    8.000000    1.000000    2.000000   23.000000    1.000000    2.000000    5.000000    0.000000    0.000000    0.000000    0.000000    0.000000    0.000000    0.000000    0.000000    0.000000   697.000000    0.000000    0.000000    0.000000\n",
       "25%     33.000000   12.000000    2.000000   10.000000   34.750000   12.000000    8.000000    9.000000    6.000000    4.000000    0.000000    0.000000    0.000000    0.000000    0.000000    0.000000    0.000000  2916.250000    0.000000    0.000000    0.000000\n",
       "50%     39.000000   14.000000    2.000000   12.000000   38.000000   14.000000    9.000000    9.000000   11.000000    5.000000    1.000000    0.000000    0.000000    0.000000    0.000000    0.000000    0.000000  3452.000000    0.000000    0.000000    0.000000\n",
       "75%     46.000000   16.000000    3.000000   12.000000   43.000000   16.000000    9.000000    9.000000   15.250000    7.250000    1.000000    1.000000    1.000000    1.000000    1.000000    1.000000    1.000000  3759.500000    0.000000    0.000000    0.000000\n",
       "max     71.000000   17.000000    8.000000   35.000000   73.000000   17.000000   10.000000   10.000000   25.000000   14.000000    1.000000    1.000000    1.000000    1.000000    1.000000    1.000000    1.000000  4933.000000    1.000000    1.000000    1.000000"
      ]
     },
     "execution_count": 13,
     "metadata": {},
     "output_type": "execute_result"
    }
   ],
   "source": [
    "#Reassessing DataFrame description after changes.\n",
    "birth.describe()"
   ]
  },
  {
   "cell_type": "markdown",
   "id": "670e3b0f",
   "metadata": {},
   "source": [
    "# Handling data already cleaned. "
   ]
  },
  {
   "cell_type": "markdown",
   "id": "32290956",
   "metadata": {},
   "source": [
    "Look at histograms to understand possible high skewness and evaluate \n",
    "opportunities of log transforming of continuous variables."
   ]
  },
  {
   "cell_type": "code",
   "execution_count": 14,
   "id": "de6794e0",
   "metadata": {
    "cell_style": "split"
   },
   "outputs": [
    {
     "data": {
      "image/png": "[encoded data removed]",
      "text/plain": [
       "<Figure size 432x288 with 1 Axes>"
      ]
     },
     "metadata": {
      "needs_background": "light"
     },
     "output_type": "display_data"
    }
   ],
   "source": [
    "#create a visualization for Target variable distribution\n",
    "sns.histplot(data   = birth,\n",
    "          x      = 'bwght',\n",
    "          kde    = True)\n",
    "\n",
    "\n",
    "# title and axis labels\n",
    "plt.title(label   = \"Distribution of Birth Weights\")\n",
    "plt.xlabel(xlabel = \"Birth Weights\")\n",
    "plt.ylabel(ylabel = \"Count\")\n",
    "\n",
    "# displaying the histogram\n",
    "plt.show()"
   ]
  },
  {
   "cell_type": "code",
   "execution_count": 15,
   "id": "aa437a7c",
   "metadata": {
    "cell_style": "split"
   },
   "outputs": [],
   "source": [
    "# log transforming Birthweight and saving it to the dataset\n",
    "birth['log_bwght'] = np.log(birth['bwght'])"
   ]
  },
  {
   "cell_type": "code",
   "execution_count": 16,
   "id": "1b6d7f60",
   "metadata": {
    "cell_style": "split"
   },
   "outputs": [
    {
     "data": {
      "image/png": "[encoded data removed]",
      "text/plain": [
       "<Figure size 432x288 with 1 Axes>"
      ]
     },
     "metadata": {
      "needs_background": "light"
     },
     "output_type": "display_data"
    }
   ],
   "source": [
    "#create a visualization for logarithmic variable version\n",
    "sns.histplot(data   = birth,\n",
    "          x      = 'log_bwght',\n",
    "          kde    = True)\n",
    "\n",
    "\n",
    "# title and axis labels\n",
    "plt.title(label   = \"Distribution of Logarithmic Birth Weights\")\n",
    "plt.xlabel(xlabel = \"Logarithmic Birth Weights\") \n",
    "plt.ylabel(ylabel = \"Count\")\n",
    "\n",
    "# displaying the histogram\n",
    "plt.show()"
   ]
  },
  {
   "cell_type": "code",
   "execution_count": 17,
   "id": "c09449c9",
   "metadata": {
    "cell_style": "split"
   },
   "outputs": [
    {
     "data": {
      "image/png": "[encoded data removed]",
      "text/plain": [
       "<Figure size 432x288 with 1 Axes>"
      ]
     },
     "metadata": {
      "needs_background": "light"
     },
     "output_type": "display_data"
    }
   ],
   "source": [
    "#create a visualization for variable\n",
    "sns.histplot(data   = birth,\n",
    "          x      = 'mage',\n",
    "          kde    = True)\n",
    "\n",
    "\n",
    "# title and axis labels\n",
    "plt.title(label   = \"Distribution of Mother Age\")\n",
    "plt.xlabel(xlabel = \"Mother Age\")\n",
    "plt.ylabel(ylabel = \"Count\")\n",
    "\n",
    "# displaying the histogram\n",
    "plt.show()"
   ]
  },
  {
   "cell_type": "code",
   "execution_count": 18,
   "id": "970e3577",
   "metadata": {
    "cell_style": "split"
   },
   "outputs": [],
   "source": [
    "# log transforming Mother Age and saving it to the dataset\n",
    "birth['log_mage'] = np.log(birth['mage'])"
   ]
  },
  {
   "cell_type": "code",
   "execution_count": 19,
   "id": "29fff950",
   "metadata": {
    "cell_style": "split"
   },
   "outputs": [
    {
     "data": {
      "image/png": "[encoded data removed]",
      "text/plain": [
       "<Figure size 432x288 with 1 Axes>"
      ]
     },
     "metadata": {
      "needs_background": "light"
     },
     "output_type": "display_data"
    }
   ],
   "source": [
    "#create a visualization for Logarithmic version of variable\n",
    "sns.histplot(data   = birth,\n",
    "          x      = 'log_mage',\n",
    "          kde    = True)\n",
    "\n",
    "\n",
    "# title and axis labels\n",
    "plt.title(label   = \"Distribution of Logarithmic Mother Age\")\n",
    "plt.xlabel(xlabel = \"Logarithmic Mother Age\") \n",
    "plt.ylabel(ylabel = \"Count\")\n",
    "\n",
    "# displaying the histogram\n",
    "plt.show()"
   ]
  },
  {
   "cell_type": "code",
   "execution_count": 20,
   "id": "b69ebde2",
   "metadata": {
    "cell_style": "split"
   },
   "outputs": [
    {
     "data": {
      "image/png": "[encoded data removed]",
      "text/plain": [
       "<Figure size 432x288 with 1 Axes>"
      ]
     },
     "metadata": {
      "needs_background": "light"
     },
     "output_type": "display_data"
    }
   ],
   "source": [
    "#create a visualization for variable\n",
    "sns.histplot(data   = birth,\n",
    "          x      = 'fage',\n",
    "          kde    = True)\n",
    "\n",
    "\n",
    "# title and axis labels\n",
    "plt.title(label   = \"Distribution of Father Age\")\n",
    "plt.xlabel(xlabel = \"Father Age\") \n",
    "plt.ylabel(ylabel = \"Count\")\n",
    "\n",
    "# displaying the histogram\n",
    "plt.show()"
   ]
  },
  {
   "cell_type": "code",
   "execution_count": 21,
   "id": "ee923bd5",
   "metadata": {
    "cell_style": "split"
   },
   "outputs": [],
   "source": [
    "# log transforming Father Age and saving it to the dataset\n",
    "birth['log_fage'] = np.log(birth['fage'])"
   ]
  },
  {
   "cell_type": "code",
   "execution_count": 22,
   "id": "8b3368af",
   "metadata": {
    "cell_style": "split"
   },
   "outputs": [
    {
     "data": {
      "image/png": "[encoded data removed]",
      "text/plain": [
       "<Figure size 432x288 with 1 Axes>"
      ]
     },
     "metadata": {
      "needs_background": "light"
     },
     "output_type": "display_data"
    }
   ],
   "source": [
    "#create a visualization for Logarithmic version of variable\n",
    "\n",
    "sns.histplot(data   = birth,\n",
    "          x      = 'log_fage',\n",
    "          kde    = True)\n",
    "\n",
    "\n",
    "# title and axis labels\n",
    "plt.title(label   = \"Distribution of Logarithmic Father Age\")\n",
    "plt.xlabel(xlabel = \"Logarithmic Father Age\") # avoiding using dataset labels, instead use understandable labels\n",
    "plt.ylabel(ylabel = \"Count\")\n",
    "\n",
    "# displaying the histogram\n",
    "plt.show()"
   ]
  },
  {
   "cell_type": "code",
   "execution_count": 23,
   "id": "195746a1",
   "metadata": {},
   "outputs": [
    {
     "data": {
      "text/html": [
       "<div>\n",
       "<style scoped>\n",
       "    .dataframe tbody tr th:only-of-type {\n",
       "        vertical-align: middle;\n",
       "    }\n",
       "\n",
       "    .dataframe tbody tr th {\n",
       "        vertical-align: top;\n",
       "    }\n",
       "\n",
       "    .dataframe thead th {\n",
       "        text-align: right;\n",
       "    }\n",
       "</style>\n",
       "<table border=\"1\" class=\"dataframe\">\n",
       "  <thead>\n",
       "    <tr style=\"text-align: right;\">\n",
       "      <th></th>\n",
       "      <th>mage</th>\n",
       "      <th>log_mage</th>\n",
       "      <th>fage</th>\n",
       "      <th>log_fage</th>\n",
       "      <th>bwght</th>\n",
       "      <th>log_bwght</th>\n",
       "    </tr>\n",
       "  </thead>\n",
       "  <tbody>\n",
       "    <tr>\n",
       "      <th>mage</th>\n",
       "      <td>1.00</td>\n",
       "      <td>0.99</td>\n",
       "      <td>0.58</td>\n",
       "      <td>0.55</td>\n",
       "      <td>-0.46</td>\n",
       "      <td>-0.50</td>\n",
       "    </tr>\n",
       "    <tr>\n",
       "      <th>log_mage</th>\n",
       "      <td>0.99</td>\n",
       "      <td>1.00</td>\n",
       "      <td>0.56</td>\n",
       "      <td>0.53</td>\n",
       "      <td>-0.42</td>\n",
       "      <td>-0.44</td>\n",
       "    </tr>\n",
       "    <tr>\n",
       "      <th>fage</th>\n",
       "      <td>0.58</td>\n",
       "      <td>0.56</td>\n",
       "      <td>1.00</td>\n",
       "      <td>0.99</td>\n",
       "      <td>-0.40</td>\n",
       "      <td>-0.41</td>\n",
       "    </tr>\n",
       "    <tr>\n",
       "      <th>log_fage</th>\n",
       "      <td>0.55</td>\n",
       "      <td>0.53</td>\n",
       "      <td>0.99</td>\n",
       "      <td>1.00</td>\n",
       "      <td>-0.38</td>\n",
       "      <td>-0.39</td>\n",
       "    </tr>\n",
       "    <tr>\n",
       "      <th>bwght</th>\n",
       "      <td>-0.46</td>\n",
       "      <td>-0.42</td>\n",
       "      <td>-0.40</td>\n",
       "      <td>-0.38</td>\n",
       "      <td>1.00</td>\n",
       "      <td>0.97</td>\n",
       "    </tr>\n",
       "    <tr>\n",
       "      <th>log_bwght</th>\n",
       "      <td>-0.50</td>\n",
       "      <td>-0.44</td>\n",
       "      <td>-0.41</td>\n",
       "      <td>-0.39</td>\n",
       "      <td>0.97</td>\n",
       "      <td>1.00</td>\n",
       "    </tr>\n",
       "  </tbody>\n",
       "</table>\n",
       "</div>"
      ],
      "text/plain": [
       "           mage  log_mage  fage  log_fage  bwght  log_bwght\n",
       "mage       1.00      0.99  0.58      0.55  -0.46      -0.50\n",
       "log_mage   0.99      1.00  0.56      0.53  -0.42      -0.44\n",
       "fage       0.58      0.56  1.00      0.99  -0.40      -0.41\n",
       "log_fage   0.55      0.53  0.99      1.00  -0.38      -0.39\n",
       "bwght     -0.46     -0.42 -0.40     -0.38   1.00       0.97\n",
       "log_bwght -0.50     -0.44 -0.41     -0.39   0.97       1.00"
      ]
     },
     "execution_count": 23,
     "metadata": {},
     "output_type": "execute_result"
    }
   ],
   "source": [
    "# Evaluating correlation of original and log version\n",
    "log_corr = birth.loc[ : , ['mage', 'log_mage',\n",
    "                           'fage','log_fage',\n",
    "                             'bwght',\n",
    "                             'log_bwght']  ].corr(method = 'pearson')\\\n",
    "                                                 .round(decimals = 2)\n",
    "\n",
    "log_corr"
   ]
  },
  {
   "cell_type": "markdown",
   "id": "cb7b834e",
   "metadata": {},
   "source": [
    "Original variables graph present little skewness that could impact the performance \n",
    "of the model. Logarithmic versions of these variables could improve this issue.\n",
    "\n",
    "Correlation remains stronger using original versions of the variables.\n"
   ]
  },
  {
   "cell_type": "markdown",
   "id": "2ee6ee2e",
   "metadata": {},
   "source": [
    "# Visualizing correlations with scatterplot"
   ]
  },
  {
   "cell_type": "markdown",
   "id": "b05a38b1",
   "metadata": {},
   "source": [
    "Visualize each continuous variable interaction with the Target variable with Scatterplots of original \n",
    "and logarithmic versions of the continuous variables."
   ]
  },
  {
   "cell_type": "code",
   "execution_count": 24,
   "id": "73e83405",
   "metadata": {},
   "outputs": [
    {
     "data": {
      "image/png": "[encoded data removed]",
      "text/plain": [
       "<Figure size 720x576 with 4 Axes>"
      ]
     },
     "metadata": {
      "needs_background": "light"
     },
     "output_type": "display_data"
    },
    {
     "data": {
      "text/plain": [
       "<Figure size 432x288 with 0 Axes>"
      ]
     },
     "metadata": {},
     "output_type": "display_data"
    }
   ],
   "source": [
    "########################\n",
    "# Visual EDA (Scatterplots) of CONTINOUS VARIABLES\n",
    "########################\n",
    "\n",
    "# setting figure size\n",
    "fig, ax = plt.subplots(figsize = (10, 8))\n",
    "\n",
    "\n",
    "# developing a scatterplot\n",
    "plt.subplot(2, 2, 1)\n",
    "sns.scatterplot(x = birth['mage'],\n",
    "                y = birth['bwght'],\n",
    "                color = 'g')\n",
    "\n",
    "\n",
    "# adding labels but not adding title\n",
    "plt.xlabel(xlabel = 'Mother Age')\n",
    "plt.ylabel(ylabel = 'Birthweight')\n",
    "\n",
    "\n",
    "########################\n",
    "\n",
    "\n",
    "# developing a scatterplot\n",
    "plt.subplot(2, 2, 2)\n",
    "sns.scatterplot(x = birth['fage'],\n",
    "                y = birth['bwght'],\n",
    "                color = 'r')\n",
    "\n",
    "# adding labels but not adding title\n",
    "plt.xlabel(xlabel = 'Father Age')\n",
    "plt.ylabel(ylabel = 'Birthweight')\n",
    "\n",
    "########################\n",
    "\n",
    "\n",
    "# developing a scatterplot\n",
    "plt.subplot(2, 2, 3)\n",
    "sns.scatterplot(x = birth['log_mage'],\n",
    "               y = birth['bwght'],\n",
    "                color = 'orange')\n",
    "\n",
    "\n",
    "# adding labels but not adding title\n",
    "plt.xlabel(xlabel = 'Logarithmic Mother Age')\n",
    "plt.ylabel(ylabel = 'Birthweight')\n",
    "\n",
    "\n",
    "########################\n",
    "\n",
    "\n",
    "# developing a scatterplot\n",
    "plt.subplot(2, 2, 4)\n",
    "sns.scatterplot(x = birth['log_fage'],\n",
    "                y = birth['bwght'],\n",
    "                color = 'r')\n",
    "\n",
    "\n",
    "# adding labels but not adding title\n",
    "plt.xlabel(xlabel = 'Logarithmic Father Age')\n",
    "plt.ylabel(ylabel = 'Birthweight')\n",
    "\n",
    "\n",
    "# cleaning up the layout and displaying\n",
    "plt.tight_layout()\n",
    "plt.show()\n",
    "\n",
    "\n",
    "# cleaning up the layout and displaying\n",
    "plt.tight_layout()\n",
    "plt.show()"
   ]
  },
  {
   "cell_type": "code",
   "execution_count": 25,
   "id": "e15662fc",
   "metadata": {},
   "outputs": [
    {
     "name": "stdout",
     "output_type": "stream",
     "text": [
      " Mother obervations with more than 35 years 62.755102040816325  %\n"
     ]
    }
   ],
   "source": [
    "# Percentage of mother 50+ years \n",
    "print (f\"\"\" Mother obervations with more than 35 years {((len(birth['mage']\n",
    "            [birth['mage'] >35 ])/196)*100) }  %\"\"\")\n",
    "\n"
   ]
  },
  {
   "cell_type": "code",
   "execution_count": 26,
   "id": "b62a0086",
   "metadata": {},
   "outputs": [
    {
     "name": "stdout",
     "output_type": "stream",
     "text": [
      " Father obervations with more than 40 years 32.142857142857146  %\n"
     ]
    }
   ],
   "source": [
    "# Percentage of father 43+ years \n",
    "print (f\"\"\" Father obervations with more than 40 years {((len(birth['fage']\n",
    "[birth['fage'] >40 ])/196)*100) }  %\"\"\")\n"
   ]
  },
  {
   "cell_type": "markdown",
   "id": "d2dfc160",
   "metadata": {},
   "source": [
    "The scatterplots allow us to understand the behavior of Age factor around Birth weight. Looking at mothers Age graph, birth weights varies consistently without clear pattern until it reaches around 45 years of age, where we can see that birth weights decreases consistently until reaching 50+ age when baby weights drop to under 3000grs. This could be associated to the increase of risks and pregnancy complications after age 45 in women.^\n",
    "\n",
    "Healthy weight for a baby at birth (2700 grs - 4000 grs).\n",
    "\n",
    "For Fathers age, the pattern is repeated but in this case we can see that lower weights appear more frequently \n",
    "after ages around 40 years old. Indicating a potential decrease in quality of fathers fertility and quality of esperma.\n",
    "\n",
    "The amount of observations under these ages for man and women are significant to be considered a trend for these variables.\n",
    "\n",
    "^https://www.acog.org/womens-health/faqs/having-a-baby-after-age-35-how-aging-affects-fertility-and-pregnancy#:~:text=A%20woman's%20peak%20reproductive%20years,is%20unlikely%20for%20most%20women."
   ]
  },
  {
   "cell_type": "markdown",
   "id": "53324a60",
   "metadata": {},
   "source": [
    "# Evaluating Count/Interval data."
   ]
  },
  {
   "cell_type": "markdown",
   "id": "53b501a4",
   "metadata": {},
   "source": [
    "**MONTH WHEN PRENATAL CARE BEGINS**"
   ]
  },
  {
   "cell_type": "code",
   "execution_count": 27,
   "id": "8a6b3ef5",
   "metadata": {
    "cell_style": "split"
   },
   "outputs": [
    {
     "data": {
      "image/png": "[encoded data removed]",
      "text/plain": [
       "<Figure size 432x288 with 1 Axes>"
      ]
     },
     "metadata": {
      "needs_background": "light"
     },
     "output_type": "display_data"
    }
   ],
   "source": [
    "# developing a scatterplot\n",
    "sns.scatterplot(x    = 'monpre',\n",
    "                y    = 'bwght',\n",
    "                data = birth)\n",
    "\n",
    "\n",
    "# titles and axis labels\n",
    "plt.title(label   = 'Scatterplot with Interval Data')\n",
    "plt.xlabel(xlabel = 'Months prenatal care')\n",
    "plt.ylabel(ylabel = 'Birthweigh')\n",
    "\n",
    "\n",
    "# displaying the plot\n",
    "plt.show()"
   ]
  },
  {
   "cell_type": "code",
   "execution_count": 28,
   "id": "cad41a04",
   "metadata": {
    "cell_style": "split",
    "scrolled": true
   },
   "outputs": [
    {
     "data": {
      "image/png": "[encoded data removed]",
      "text/plain": [
       "<Figure size 432x288 with 1 Axes>"
      ]
     },
     "metadata": {
      "needs_background": "light"
     },
     "output_type": "display_data"
    }
   ],
   "source": [
    "# developing a boxplot\n",
    "sns.boxplot(x    = 'monpre',\n",
    "            y    = 'bwght',\n",
    "            data = birth)\n",
    "\n",
    "\n",
    "# titles and axis labels\n",
    "plt.title(label   = 'Boxplot with Interval Data')\n",
    "plt.xlabel(xlabel = 'Months prenatal care')\n",
    "plt.ylabel(ylabel = 'Birthweigh')\n",
    "\n",
    "\n",
    "# displaying the plot\n",
    "plt.show()"
   ]
  },
  {
   "cell_type": "code",
   "execution_count": 29,
   "id": "d2f498eb",
   "metadata": {},
   "outputs": [
    {
     "data": {
      "text/html": [
       "<div>\n",
       "<style scoped>\n",
       "    .dataframe tbody tr th:only-of-type {\n",
       "        vertical-align: middle;\n",
       "    }\n",
       "\n",
       "    .dataframe tbody tr th {\n",
       "        vertical-align: top;\n",
       "    }\n",
       "\n",
       "    .dataframe thead th {\n",
       "        text-align: right;\n",
       "    }\n",
       "</style>\n",
       "<table border=\"1\" class=\"dataframe\">\n",
       "  <thead>\n",
       "    <tr style=\"text-align: right;\">\n",
       "      <th></th>\n",
       "      <th>bwght</th>\n",
       "      <th>log_bwght</th>\n",
       "    </tr>\n",
       "  </thead>\n",
       "  <tbody>\n",
       "    <tr>\n",
       "      <th>monpre</th>\n",
       "      <td>-0.05</td>\n",
       "      <td>-0.09</td>\n",
       "    </tr>\n",
       "  </tbody>\n",
       "</table>\n",
       "</div>"
      ],
      "text/plain": [
       "        bwght  log_bwght\n",
       "monpre  -0.05      -0.09"
      ]
     },
     "execution_count": 29,
     "metadata": {},
     "output_type": "execute_result"
    }
   ],
   "source": [
    "# Evaluating correlation of original\n",
    "log_corr = birth.loc[ : , ['monpre',\n",
    "                             'bwght',\n",
    "                             'log_bwght']  ].corr(method = 'pearson')\\\n",
    "                                                 .round(decimals = 2)\n",
    "\n",
    "log_corr.loc[ ['monpre'],\n",
    "              ['bwght', 'log_bwght']   ]"
   ]
  },
  {
   "cell_type": "markdown",
   "id": "2c0f75b9",
   "metadata": {},
   "source": [
    "Box plot for Months of prenatal care begin, shows a high variability, difference in concentration and skewness of the data, also some few outliers found to be investigated further. Its important to understand that pre natal care begins as soon as mother find out about their pregnancies, in many cases women don't find out until delivery time and delivering healthy baby withing normal weight ranges. \n",
    "\n",
    "Correlation with target variable is very low.  \n",
    "\n",
    "Due to these previous factors I don't consider transforming this variable."
   ]
  },
  {
   "cell_type": "markdown",
   "id": "da883b4e",
   "metadata": {},
   "source": [
    "**NUMBER OF PRENATAL VISITS**"
   ]
  },
  {
   "cell_type": "code",
   "execution_count": 30,
   "id": "582beda1",
   "metadata": {
    "cell_style": "split"
   },
   "outputs": [
    {
     "data": {
      "image/png": "[encoded data removed]",
      "text/plain": [
       "<Figure size 432x288 with 1 Axes>"
      ]
     },
     "metadata": {
      "needs_background": "light"
     },
     "output_type": "display_data"
    }
   ],
   "source": [
    "# developing a scatterplot\n",
    "sns.scatterplot(x    = 'npvis',\n",
    "                y    = 'bwght',\n",
    "                data = birth)\n",
    "\n",
    "\n",
    "# titles and axis labels\n",
    "plt.title(label   = 'Scatterplot with Interval Data')\n",
    "plt.xlabel(xlabel = 'PreNatal Visits')\n",
    "plt.ylabel(ylabel = 'Birthweigh')\n",
    "\n",
    "\n",
    "# displaying the plot\n",
    "plt.show()"
   ]
  },
  {
   "cell_type": "code",
   "execution_count": 31,
   "id": "043b7f07",
   "metadata": {
    "cell_style": "split",
    "scrolled": false
   },
   "outputs": [
    {
     "data": {
      "image/png": "[encoded data removed]",
      "text/plain": [
       "<Figure size 1080x720 with 1 Axes>"
      ]
     },
     "metadata": {
      "needs_background": "light"
     },
     "output_type": "display_data"
    }
   ],
   "source": [
    "fig, ax = plt.subplots(figsize = (15, 10))\n",
    "\n",
    "# developing a boxplot\n",
    "sns.boxplot(x    = 'npvis',\n",
    "            y    = 'bwght',\n",
    "            data = birth)\n",
    "\n",
    "\n",
    "# titles and axis labels\n",
    "plt.title(label   = 'Boxplot with Interval Data')\n",
    "plt.xlabel(xlabel = 'Prenatal Visits')\n",
    "plt.ylabel(ylabel = 'Birthweight')\n",
    "\n",
    "\n",
    "# displaying the plot\n",
    "plt.show()"
   ]
  },
  {
   "cell_type": "code",
   "execution_count": 32,
   "id": "e9e0fb8f",
   "metadata": {},
   "outputs": [
    {
     "name": "stdout",
     "output_type": "stream",
     "text": [
      "\n",
      "Count of pre visits\n",
      "==================\n",
      "\n",
      "----------\n",
      "Prenatal Visits numb\n",
      "----------\n",
      "2.0      1\n",
      "3.0      2\n",
      "5.0      3\n",
      "6.0      7\n",
      "7.0      7\n",
      "8.0     15\n",
      "9.0     12\n",
      "10.0    24\n",
      "11.0    15\n",
      "12.0    68\n",
      "13.0     9\n",
      "14.0     7\n",
      "15.0     9\n",
      "16.0     5\n",
      "17.0     2\n",
      "18.0     1\n",
      "19.0     1\n",
      "20.0     3\n",
      "25.0     1\n",
      "30.0     2\n",
      "31.0     1\n",
      "35.0     1\n",
      "Name: npvis, dtype: int64\n",
      "\n",
      "\n",
      "\n"
     ]
    }
   ],
   "source": [
    "# printing value counts for full and half baths\n",
    "print(f\"\"\"\n",
    "Count of pre visits\n",
    "==================\n",
    "\n",
    "----------\n",
    "Prenatal Visits numb\n",
    "----------\n",
    "{birth['npvis'].value_counts(normalize = False).sort_index()}\n",
    "\n",
    "\n",
    "\"\"\")"
   ]
  },
  {
   "cell_type": "markdown",
   "id": "6f28f295",
   "metadata": {},
   "source": [
    "The plot shows there is bigger concentration of data between 5 and 15 prenatal visits, but there is hight variability  with weight. The number of pre visits depend in mothers overall health, if mother is within a high risk group, like Age, underlying health conditions. We could infer that is a mother of high risk pregnancy would have more visits than one who doesn't and also a high risk pregnancy has more probabilities of having a baby out of the normal weight range, this could be one reason for some of the outliers we see. \n",
    "\n",
    "However the graph suggest that the number of visits have not a strong relation with baby weights and there is also low amount of data under higher number of pre vistis that are influencing this conclusion.\n",
    "\n",
    "Normal prenatal visits are between 5 and 14. "
   ]
  },
  {
   "cell_type": "code",
   "execution_count": 33,
   "id": "51abff7e",
   "metadata": {},
   "outputs": [
    {
     "data": {
      "text/html": [
       "<div>\n",
       "<style scoped>\n",
       "    .dataframe tbody tr th:only-of-type {\n",
       "        vertical-align: middle;\n",
       "    }\n",
       "\n",
       "    .dataframe tbody tr th {\n",
       "        vertical-align: top;\n",
       "    }\n",
       "\n",
       "    .dataframe thead th {\n",
       "        text-align: right;\n",
       "    }\n",
       "</style>\n",
       "<table border=\"1\" class=\"dataframe\">\n",
       "  <thead>\n",
       "    <tr style=\"text-align: right;\">\n",
       "      <th></th>\n",
       "      <th>bwght</th>\n",
       "      <th>log_bwght</th>\n",
       "    </tr>\n",
       "  </thead>\n",
       "  <tbody>\n",
       "    <tr>\n",
       "      <th>npvis</th>\n",
       "      <td>0.06</td>\n",
       "      <td>0.11</td>\n",
       "    </tr>\n",
       "  </tbody>\n",
       "</table>\n",
       "</div>"
      ],
      "text/plain": [
       "       bwght  log_bwght\n",
       "npvis   0.06       0.11"
      ]
     },
     "execution_count": 33,
     "metadata": {},
     "output_type": "execute_result"
    }
   ],
   "source": [
    "# Evaluating correlation of original and log version\n",
    "log_corr = birth.loc[ : , ['npvis',\n",
    "                             'bwght',\n",
    "                             'log_bwght']  ].corr(method = 'pearson')\\\n",
    "                                                 .round(decimals = 2)\n",
    "\n",
    "log_corr.loc[ ['npvis'],\n",
    "              ['bwght', 'log_bwght']   ]"
   ]
  },
  {
   "cell_type": "markdown",
   "id": "1c93c545",
   "metadata": {},
   "source": [
    " **DRINKS PER WEEK**"
   ]
  },
  {
   "cell_type": "code",
   "execution_count": 34,
   "id": "415213b5",
   "metadata": {
    "cell_style": "split"
   },
   "outputs": [
    {
     "data": {
      "image/png": "[encoded data removed]",
      "text/plain": [
       "<Figure size 432x288 with 1 Axes>"
      ]
     },
     "metadata": {
      "needs_background": "light"
     },
     "output_type": "display_data"
    }
   ],
   "source": [
    "# developing a boxplot\n",
    "sns.scatterplot(x    = 'drink',\n",
    "            y    = 'bwght',\n",
    "            data = birth)\n",
    "\n",
    "\n",
    "# titles and axis labels\n",
    "plt.title(label   = 'Boxplot with Interval Data')\n",
    "plt.xlabel(xlabel = 'Drinks weekly')\n",
    "plt.ylabel(ylabel = 'Birthweight')\n",
    "\n",
    "\n",
    "# displaying the plot\n",
    "plt.show()"
   ]
  },
  {
   "cell_type": "code",
   "execution_count": 35,
   "id": "7e78fa44",
   "metadata": {
    "cell_style": "split"
   },
   "outputs": [
    {
     "data": {
      "image/png": "[encoded data removed]",
      "text/plain": [
       "<Figure size 432x288 with 1 Axes>"
      ]
     },
     "metadata": {
      "needs_background": "light"
     },
     "output_type": "display_data"
    }
   ],
   "source": [
    "# developing a boxplot\n",
    "sns.boxplot(x    = 'drink',\n",
    "            y    = 'bwght',\n",
    "            data = birth)\n",
    "\n",
    "\n",
    "# titles and axis labels\n",
    "plt.title(label   = 'Boxplot with Interval Data')\n",
    "plt.xlabel(xlabel = 'Drinks Weekly')\n",
    "plt.ylabel(ylabel = 'Birthweight')\n",
    "\n",
    "\n",
    "# displaying the plot\n",
    "plt.show()"
   ]
  },
  {
   "cell_type": "code",
   "execution_count": 36,
   "id": "5904fb89",
   "metadata": {},
   "outputs": [
    {
     "name": "stdout",
     "output_type": "stream",
     "text": [
      "\n",
      "Count of Drinks > 6\n",
      "==================\n",
      "68\n",
      "\n"
     ]
    }
   ],
   "source": [
    "# printing value counts drinks\n",
    "print(f\"\"\"\n",
    "Count of Drinks > 6\n",
    "==================\n",
    "{(birth['drink']>6).sum()}\n",
    "\"\"\")"
   ]
  },
  {
   "cell_type": "markdown",
   "id": "977c218e",
   "metadata": {},
   "source": [
    "Drinks per week show an evident negative correlation with birth weight, we can see the higher number of drinks per week, the lower the birth weight. Although not necessarily meaning that the weights are out of the 'safe' threshold of healthy baby weight, it is evident that it negatively correlated, and than weights are affected by the amount of drinks.\n",
    "\n",
    "The graph suggests that the trend is more accentuated when the amount of drinks goes over 6 (up to 5 glasses are considered low consumption, and from 6 and up glasses moderate to high). There are 68 observations with more than 6 drinks which represents 35% of the data for this category  and is recommended to further understand with correlation evaluation.\n",
    "\n",
    "So I would conclude that for moderate to high alcohol consumption during pregnancy the birth weight could be negatively affected.\n",
    "\n",
    "^https://utswmed.org/medblog/alcohol-during-pregnancy/\n",
    "\n",
    "\n",
    "^https://www.health.harvard.edu/blog/study-no-connection-between-drinking-alcohol-early-in-pregnancy-and-birth-problems-201309106667\n"
   ]
  },
  {
   "cell_type": "code",
   "execution_count": 37,
   "id": "48b955b2",
   "metadata": {},
   "outputs": [
    {
     "data": {
      "text/html": [
       "<div>\n",
       "<style scoped>\n",
       "    .dataframe tbody tr th:only-of-type {\n",
       "        vertical-align: middle;\n",
       "    }\n",
       "\n",
       "    .dataframe tbody tr th {\n",
       "        vertical-align: top;\n",
       "    }\n",
       "\n",
       "    .dataframe thead th {\n",
       "        text-align: right;\n",
       "    }\n",
       "</style>\n",
       "<table border=\"1\" class=\"dataframe\">\n",
       "  <thead>\n",
       "    <tr style=\"text-align: right;\">\n",
       "      <th></th>\n",
       "      <th>bwght</th>\n",
       "      <th>log_bwght</th>\n",
       "    </tr>\n",
       "  </thead>\n",
       "  <tbody>\n",
       "    <tr>\n",
       "      <th>drink</th>\n",
       "      <td>-0.74</td>\n",
       "      <td>-0.7</td>\n",
       "    </tr>\n",
       "  </tbody>\n",
       "</table>\n",
       "</div>"
      ],
      "text/plain": [
       "       bwght  log_bwght\n",
       "drink  -0.74       -0.7"
      ]
     },
     "execution_count": 37,
     "metadata": {},
     "output_type": "execute_result"
    }
   ],
   "source": [
    "# Evaluating correlation of original and log version\n",
    "log_corr = birth.loc[ : , ['drink',\n",
    "                             'bwght',\n",
    "                             'log_bwght']  ].corr(method = 'pearson')\\\n",
    "                                                 .round(decimals = 2)\n",
    "\n",
    "log_corr.loc[ ['drink'],\n",
    "              ['bwght', 'log_bwght']   ]"
   ]
  },
  {
   "cell_type": "markdown",
   "id": "643a37a3",
   "metadata": {},
   "source": [
    "When applied logarithmic version of the variable there is not significant improvement, as the plots above suggested there was clear relationship between target and explanatory variable. \n",
    "After confirming with correlation evaluation, the conclusion is to keep original version of explanatory variable for the model."
   ]
  },
  {
   "cell_type": "markdown",
   "id": "ac65e867",
   "metadata": {},
   "source": [
    "**CIGARS DAILY**"
   ]
  },
  {
   "cell_type": "code",
   "execution_count": 38,
   "id": "77cb7431",
   "metadata": {
    "cell_style": "split"
   },
   "outputs": [
    {
     "data": {
      "image/png": "[encoded data removed]",
      "text/plain": [
       "<Figure size 432x288 with 1 Axes>"
      ]
     },
     "metadata": {
      "needs_background": "light"
     },
     "output_type": "display_data"
    }
   ],
   "source": [
    "# developing a scatterplot\n",
    "sns.scatterplot(x    = 'cigs',\n",
    "                y    = 'bwght',\n",
    "                data = birth)\n",
    "\n",
    "\n",
    "# titles and axis labels\n",
    "plt.title(label   = 'Scatterplot with Interval Data')\n",
    "plt.xlabel(xlabel = 'Cigars Daily')\n",
    "plt.ylabel(ylabel = 'Birthweight')\n",
    "\n",
    "\n",
    "# displaying the plot\n",
    "plt.show()"
   ]
  },
  {
   "cell_type": "code",
   "execution_count": 39,
   "id": "86dc27b4",
   "metadata": {
    "cell_style": "split"
   },
   "outputs": [
    {
     "data": {
      "image/png": "[encoded data removed]",
      "text/plain": [
       "<Figure size 432x288 with 1 Axes>"
      ]
     },
     "metadata": {
      "needs_background": "light"
     },
     "output_type": "display_data"
    }
   ],
   "source": [
    "# developing a boxplot\n",
    "sns.boxplot(x    = 'cigs',\n",
    "            y    = 'bwght',\n",
    "            data = birth)\n",
    "\n",
    "\n",
    "# titles and axis labels\n",
    "plt.title(label   = 'Boxplot with Interval Data')\n",
    "plt.xlabel(xlabel = 'Cigars Daily')\n",
    "plt.ylabel(ylabel = 'Birthweight')\n",
    "\n",
    "\n",
    "# displaying the plot\n",
    "plt.show()"
   ]
  },
  {
   "cell_type": "code",
   "execution_count": 40,
   "id": "271d8207",
   "metadata": {},
   "outputs": [
    {
     "data": {
      "text/plain": [
       "0      9\n",
       "1      8\n",
       "2      4\n",
       "3      4\n",
       "4      8\n",
       "5     11\n",
       "6      9\n",
       "7      5\n",
       "8     11\n",
       "9     11\n",
       "10    10\n",
       "11    13\n",
       "12     9\n",
       "13    15\n",
       "14    11\n",
       "15     9\n",
       "16    11\n",
       "17    12\n",
       "18     5\n",
       "19     6\n",
       "20     2\n",
       "21     5\n",
       "22     2\n",
       "23     3\n",
       "24     1\n",
       "25     2\n",
       "Name: cigs, dtype: int64"
      ]
     },
     "execution_count": 40,
     "metadata": {},
     "output_type": "execute_result"
    }
   ],
   "source": [
    "birth['cigs'].value_counts(sort=True).sort_index()"
   ]
  },
  {
   "cell_type": "code",
   "execution_count": 41,
   "id": "0a46139c",
   "metadata": {},
   "outputs": [
    {
     "name": "stdout",
     "output_type": "stream",
     "text": [
      "\n",
      "Count of Cigars < 7\n",
      "==================\n",
      "53\n",
      "\n"
     ]
    }
   ],
   "source": [
    "# printing value counts drinks\n",
    "print(f\"\"\"\n",
    "Count of Cigars < 7\n",
    "==================\n",
    "{(birth['cigs']<7).sum()}\n",
    "\"\"\")"
   ]
  },
  {
   "cell_type": "code",
   "execution_count": 42,
   "id": "c4573903",
   "metadata": {},
   "outputs": [
    {
     "name": "stdout",
     "output_type": "stream",
     "text": [
      "\n",
      "Count of Cigars > 17\n",
      "==================\n",
      "26\n",
      "\n"
     ]
    }
   ],
   "source": [
    "# printing value counts drinks\n",
    "print(f\"\"\"\n",
    "Count of Cigars > 17\n",
    "==================\n",
    "{(birth['cigs']>17).sum()}\n",
    "\"\"\")"
   ]
  },
  {
   "cell_type": "code",
   "execution_count": 43,
   "id": "a521e120",
   "metadata": {},
   "outputs": [
    {
     "data": {
      "text/html": [
       "<div>\n",
       "<style scoped>\n",
       "    .dataframe tbody tr th:only-of-type {\n",
       "        vertical-align: middle;\n",
       "    }\n",
       "\n",
       "    .dataframe tbody tr th {\n",
       "        vertical-align: top;\n",
       "    }\n",
       "\n",
       "    .dataframe thead th {\n",
       "        text-align: right;\n",
       "    }\n",
       "</style>\n",
       "<table border=\"1\" class=\"dataframe\">\n",
       "  <thead>\n",
       "    <tr style=\"text-align: right;\">\n",
       "      <th></th>\n",
       "      <th>bwght</th>\n",
       "      <th>log_bwght</th>\n",
       "    </tr>\n",
       "  </thead>\n",
       "  <tbody>\n",
       "    <tr>\n",
       "      <th>cigs</th>\n",
       "      <td>-0.57</td>\n",
       "      <td>-0.55</td>\n",
       "    </tr>\n",
       "  </tbody>\n",
       "</table>\n",
       "</div>"
      ],
      "text/plain": [
       "      bwght  log_bwght\n",
       "cigs  -0.57      -0.55"
      ]
     },
     "execution_count": 43,
     "metadata": {},
     "output_type": "execute_result"
    }
   ],
   "source": [
    "# Evaluating correlation of original and log version\n",
    "corr = birth.loc[ : , ['cigs',\n",
    "                             'bwght',\n",
    "                             'log_bwght']  ].corr(method = 'pearson')\\\n",
    "                                                 .round(decimals = 2)\n",
    "\n",
    "corr.loc[ ['cigs'],\n",
    "              ['bwght', 'log_bwght']   ]"
   ]
  },
  {
   "cell_type": "markdown",
   "id": "b893aaca",
   "metadata": {},
   "source": [
    "With high noise in the graph it is still easy to see the negative correlation between cigars per day and baby weight.\n",
    "\n",
    "When looking at boxes for 8 cigars, 15 cigars and 17 cigars where the bulk of the data is, it is much easier to understand how the average weights decrease as the amount of cigars augments.  \n",
    "\n",
    "\n",
    "\n",
    "^https://bmcpregnancychildbirth.biomedcentral.com/articles/10.1186/s12884-018-1694-4"
   ]
  },
  {
   "cell_type": "markdown",
   "id": "0ec3eb4a",
   "metadata": {},
   "source": [
    "Cigars variable is highly negative with the target variable. This also confirms that the variable should be used in the model."
   ]
  },
  {
   "cell_type": "markdown",
   "id": "257ca5f5",
   "metadata": {},
   "source": [
    "**MOTHER EDUCATION**"
   ]
  },
  {
   "cell_type": "code",
   "execution_count": 44,
   "id": "7e46ed7a",
   "metadata": {
    "cell_style": "split"
   },
   "outputs": [
    {
     "data": {
      "image/png": "[encoded data removed]",
      "text/plain": [
       "<Figure size 432x288 with 1 Axes>"
      ]
     },
     "metadata": {
      "needs_background": "light"
     },
     "output_type": "display_data"
    }
   ],
   "source": [
    "# developing a scatterplot\n",
    "sns.scatterplot(x    = 'meduc',\n",
    "                y    = 'bwght',\n",
    "                data = birth)\n",
    "\n",
    "\n",
    "# titles and axis labels\n",
    "plt.title(label   = 'Scatterplot with Interval Data')\n",
    "plt.xlabel(xlabel = 'Mother Education')\n",
    "plt.ylabel(ylabel = 'Birthweight')\n",
    "\n",
    "\n",
    "# displaying the plot\n",
    "plt.show()"
   ]
  },
  {
   "cell_type": "code",
   "execution_count": 45,
   "id": "905693b8",
   "metadata": {
    "cell_style": "split"
   },
   "outputs": [
    {
     "data": {
      "image/png": "[encoded data removed]",
      "text/plain": [
       "<Figure size 432x288 with 1 Axes>"
      ]
     },
     "metadata": {
      "needs_background": "light"
     },
     "output_type": "display_data"
    }
   ],
   "source": [
    "# developing a boxplot\n",
    "sns.boxplot(x    = 'meduc',\n",
    "            y    = 'bwght',\n",
    "            data = birth)\n",
    "\n",
    "\n",
    "# titles and axis labels\n",
    "plt.title(label   = 'Boxplot with Interval Data')\n",
    "plt.xlabel(xlabel = 'Mother Education')\n",
    "plt.ylabel(ylabel = 'Birthweight')\n",
    "\n",
    "\n",
    "# displaying the plot\n",
    "plt.show()"
   ]
  },
  {
   "cell_type": "markdown",
   "id": "9812c3ad",
   "metadata": {},
   "source": [
    "Mothers Education seem to not have clear pattern when evaluating plots, although research shows that birth weight increase with mother education^. \n",
    "\n",
    "When assessing boxes for 11 years of education, 14 and 17 we could say there is some improvement on average weights, however this conclusion has to be investigated further due to the large variability in the data.\n",
    "\n",
    "It is important to remember that most women will have their babies between 25-35 years old, and therefore this age range also influences the amount of years of education the women has had by the time they become pregnant.  \n",
    "\n",
    "^https://www.ncbi.nlm.nih.gov/pmc/articles/PMC3578151/"
   ]
  },
  {
   "cell_type": "code",
   "execution_count": 46,
   "id": "02ddaf2d",
   "metadata": {},
   "outputs": [
    {
     "data": {
      "text/html": [
       "<div>\n",
       "<style scoped>\n",
       "    .dataframe tbody tr th:only-of-type {\n",
       "        vertical-align: middle;\n",
       "    }\n",
       "\n",
       "    .dataframe tbody tr th {\n",
       "        vertical-align: top;\n",
       "    }\n",
       "\n",
       "    .dataframe thead th {\n",
       "        text-align: right;\n",
       "    }\n",
       "</style>\n",
       "<table border=\"1\" class=\"dataframe\">\n",
       "  <thead>\n",
       "    <tr style=\"text-align: right;\">\n",
       "      <th></th>\n",
       "      <th>bwght</th>\n",
       "      <th>log_bwght</th>\n",
       "    </tr>\n",
       "  </thead>\n",
       "  <tbody>\n",
       "    <tr>\n",
       "      <th>meduc</th>\n",
       "      <td>0.09</td>\n",
       "      <td>0.09</td>\n",
       "    </tr>\n",
       "    <tr>\n",
       "      <th>log_meduc</th>\n",
       "      <td>0.09</td>\n",
       "      <td>0.09</td>\n",
       "    </tr>\n",
       "  </tbody>\n",
       "</table>\n",
       "</div>"
      ],
      "text/plain": [
       "           bwght  log_bwght\n",
       "meduc       0.09       0.09\n",
       "log_meduc   0.09       0.09"
      ]
     },
     "execution_count": 46,
     "metadata": {},
     "output_type": "execute_result"
    }
   ],
   "source": [
    "#assesing if changing to logarithmic can further improve the correlation\n",
    "#changing variable tologarithmic\n",
    "birth['log_meduc'] = np.log(birth['meduc'])\n",
    "\n",
    "#assessing correlation\n",
    "log_corr = birth.loc[ : , ['meduc',\n",
    "                             'log_meduc',\n",
    "                             'bwght',\n",
    "                             'log_bwght']  ].corr(method = 'pearson')\\\n",
    "                                                 .round(decimals = 2)\n",
    "\n",
    "\n",
    "\n",
    "log_corr.loc[ ['meduc', 'log_meduc'],\n",
    "              ['bwght', 'log_bwght']   ]"
   ]
  },
  {
   "cell_type": "markdown",
   "id": "b6d65831",
   "metadata": {},
   "source": [
    "Correlation of both versions of the variable show there is very low positive correlation\n",
    "amongst target and explanatory variable."
   ]
  },
  {
   "cell_type": "markdown",
   "id": "76677090",
   "metadata": {},
   "source": [
    "**FATHER EDUCATION**"
   ]
  },
  {
   "cell_type": "code",
   "execution_count": 47,
   "id": "79f2ec39",
   "metadata": {
    "cell_style": "split"
   },
   "outputs": [
    {
     "data": {
      "image/png": "[encoded data removed]",
      "text/plain": [
       "<Figure size 432x288 with 1 Axes>"
      ]
     },
     "metadata": {
      "needs_background": "light"
     },
     "output_type": "display_data"
    }
   ],
   "source": [
    "# developing a scatterplot\n",
    "sns.scatterplot(x    = 'feduc',\n",
    "                y    = 'bwght',\n",
    "                data = birth)\n",
    "\n",
    "\n",
    "# titles and axis labels\n",
    "plt.title(label   = 'Scatterplot with Interval Data')\n",
    "plt.xlabel(xlabel = 'Father Education')\n",
    "plt.ylabel(ylabel = 'Birthweight')\n",
    "\n",
    "\n",
    "# displaying the plot\n",
    "plt.show()"
   ]
  },
  {
   "cell_type": "code",
   "execution_count": 48,
   "id": "20678e68",
   "metadata": {
    "cell_style": "split"
   },
   "outputs": [
    {
     "data": {
      "image/png": "[encoded data removed]",
      "text/plain": [
       "<Figure size 432x288 with 1 Axes>"
      ]
     },
     "metadata": {
      "needs_background": "light"
     },
     "output_type": "display_data"
    }
   ],
   "source": [
    "# developing a boxplot\n",
    "sns.boxplot(x    = 'feduc',\n",
    "            y    = 'bwght',\n",
    "            data = birth)\n",
    "\n",
    "\n",
    "# titles and axis labels\n",
    "plt.title(label   = 'Boxplot with Interval Data')\n",
    "plt.xlabel(xlabel = 'Father Education')\n",
    "plt.ylabel(ylabel = 'Birthweight')\n",
    "\n",
    "\n",
    "# displaying the plot\n",
    "plt.show()"
   ]
  },
  {
   "cell_type": "code",
   "execution_count": 49,
   "id": "c5f331e3",
   "metadata": {},
   "outputs": [
    {
     "data": {
      "text/plain": [
       "1.0      2\n",
       "7.0      1\n",
       "8.0      2\n",
       "10.0     4\n",
       "11.0    10\n",
       "12.0    60\n",
       "13.0     6\n",
       "14.0    28\n",
       "15.0     4\n",
       "16.0    53\n",
       "17.0    26\n",
       "Name: feduc, dtype: int64"
      ]
     },
     "execution_count": 49,
     "metadata": {},
     "output_type": "execute_result"
    }
   ],
   "source": [
    "birth['feduc'].value_counts(sort=True).sort_index()"
   ]
  },
  {
   "cell_type": "markdown",
   "id": "d2c654bb",
   "metadata": {},
   "source": [
    "In the case of father level of education, there is also high variability in data however we could say that \n",
    "it is more clear a positive correlation between father education and birth weight than it was in case of the\n",
    "mothers education years. We can see the pattern when looking at boxes 8, 12 and 15. However the dimensions of the box plots whiskers and the outliers impact this conclusion."
   ]
  },
  {
   "cell_type": "code",
   "execution_count": 50,
   "id": "229249c0",
   "metadata": {},
   "outputs": [
    {
     "data": {
      "text/html": [
       "<div>\n",
       "<style scoped>\n",
       "    .dataframe tbody tr th:only-of-type {\n",
       "        vertical-align: middle;\n",
       "    }\n",
       "\n",
       "    .dataframe tbody tr th {\n",
       "        vertical-align: top;\n",
       "    }\n",
       "\n",
       "    .dataframe thead th {\n",
       "        text-align: right;\n",
       "    }\n",
       "</style>\n",
       "<table border=\"1\" class=\"dataframe\">\n",
       "  <thead>\n",
       "    <tr style=\"text-align: right;\">\n",
       "      <th></th>\n",
       "      <th>bwght</th>\n",
       "      <th>log_bwght</th>\n",
       "    </tr>\n",
       "  </thead>\n",
       "  <tbody>\n",
       "    <tr>\n",
       "      <th>feduc</th>\n",
       "      <td>0.13</td>\n",
       "      <td>0.13</td>\n",
       "    </tr>\n",
       "    <tr>\n",
       "      <th>log_feduc</th>\n",
       "      <td>0.16</td>\n",
       "      <td>0.16</td>\n",
       "    </tr>\n",
       "  </tbody>\n",
       "</table>\n",
       "</div>"
      ],
      "text/plain": [
       "           bwght  log_bwght\n",
       "feduc       0.13       0.13\n",
       "log_feduc   0.16       0.16"
      ]
     },
     "execution_count": 50,
     "metadata": {},
     "output_type": "execute_result"
    }
   ],
   "source": [
    "#assesing if changing to logarithmic can further improve the correlation\n",
    "#changing variable tologarithmic\n",
    "birth['log_feduc'] = np.log(birth['feduc'])\n",
    "\n",
    "#assessing correlation\n",
    "log_corr = birth.loc[ : , ['feduc',\n",
    "                             'log_feduc',\n",
    "                             'bwght',\n",
    "                             'log_bwght']  ].corr(method = 'pearson')\\\n",
    "                                                 .round(decimals = 2)\n",
    "\n",
    "\n",
    "\n",
    "log_corr.loc[ ['feduc', 'log_feduc'],\n",
    "              ['bwght', 'log_bwght']   ]"
   ]
  },
  {
   "cell_type": "markdown",
   "id": "c5b9706b",
   "metadata": {},
   "source": [
    "We can see from the correlation that Father education is higher correlated to birth weight \n",
    "than the mothers education. And also that using the logarithmic version of the explanatory\n",
    "variable improves the correlation even more. "
   ]
  },
  {
   "cell_type": "markdown",
   "id": "a4e2babb",
   "metadata": {},
   "source": [
    "# Evaluating Categorical Data"
   ]
  },
  {
   "cell_type": "code",
   "execution_count": 51,
   "id": "457a603b",
   "metadata": {},
   "outputs": [
    {
     "name": "stdout",
     "output_type": "stream",
     "text": [
      "\n",
      "Baby is Male\n",
      "------\n",
      "1    108\n",
      "0     88\n",
      "Name: male, dtype: int64\n",
      "\n",
      "\n",
      "Mother White\n",
      "----------\n",
      "0    143\n",
      "1     53\n",
      "Name: mwhte, dtype: int64\n",
      "\n",
      "\n",
      "Father White\n",
      "-------------\n",
      "0    128\n",
      "1     68\n",
      "Name: fwhte, dtype: int64\n",
      "\n",
      "\n",
      "Mother Black\n",
      "----------\n",
      "0    121\n",
      "1     75\n",
      "Name: mblck, dtype: int64\n",
      "\n",
      "\n",
      "Father Black\n",
      "-------------\n",
      "0    129\n",
      "1     67\n",
      "Name: fblck, dtype: int64\n",
      "\n",
      "\n",
      "Mother Other\n",
      "----------\n",
      "0    128\n",
      "1     68\n",
      "Name: moth, dtype: int64\n",
      "\n",
      "\n",
      "Father Other\n",
      "-------------\n",
      "0    135\n",
      "1     61\n",
      "Name: foth, dtype: int64\n",
      "\n",
      "\n",
      "\n"
     ]
    }
   ],
   "source": [
    "# printing columns\n",
    "print(f\"\"\"\n",
    "Baby is Male\n",
    "------\n",
    "{birth['male'].value_counts()}\n",
    "\n",
    "\n",
    "Mother White\n",
    "----------\n",
    "{birth['mwhte'].value_counts()}\n",
    "\n",
    "\n",
    "Father White\n",
    "-------------\n",
    "{birth['fwhte'].value_counts()}\n",
    "\n",
    "\n",
    "Mother Black\n",
    "----------\n",
    "{birth['mblck'].value_counts()}\n",
    "\n",
    "\n",
    "Father Black\n",
    "-------------\n",
    "{birth['fblck'].value_counts()}\n",
    "\n",
    "\n",
    "Mother Other\n",
    "----------\n",
    "{birth['moth'].value_counts()}\n",
    "\n",
    "\n",
    "Father Other\n",
    "-------------\n",
    "{birth['foth'].value_counts()}\n",
    "\n",
    "\n",
    "\"\"\")"
   ]
  },
  {
   "cell_type": "markdown",
   "id": "aadc7ca8",
   "metadata": {},
   "source": [
    "The variables are already in the form of dummies, and most of them contain the threshold amount \n",
    "of more than 60 observations. Double checking in correlations to understand which are significant \n",
    "to keep for the model."
   ]
  },
  {
   "cell_type": "code",
   "execution_count": 52,
   "id": "983217b8",
   "metadata": {},
   "outputs": [
    {
     "data": {
      "image/png": "[encoded data removed]",
      "text/plain": [
       "<Figure size 720x720 with 1 Axes>"
      ]
     },
     "metadata": {
      "needs_background": "light"
     },
     "output_type": "display_data"
    }
   ],
   "source": [
    "# correlation heatmap\n",
    "\n",
    "df_corr = birth.corr().round(2)\n",
    "\n",
    "# setting figure size\n",
    "fig, ax = plt.subplots(figsize=(10,10))\n",
    "\n",
    "\n",
    "# limiting the size of the correlation matrix\n",
    "df_corr2 = df_corr.loc[ ['bwght', 'log_bwght', 'male',\n",
    "                         'mwhte', 'fwhte', 'mblck', 'fblck',\n",
    "                        'moth', 'foth'],\n",
    "                      ['bwght', 'log_bwght', 'male',\n",
    "                         'mwhte', 'fwhte', 'mblck', 'fblck',\n",
    "                        'moth', 'foth']]\n",
    "\n",
    "\n",
    "# visualizing the correlation matrix\n",
    "sns.heatmap(df_corr2,\n",
    "            cmap = 'coolwarm',\n",
    "            square = True,\n",
    "            annot = True,\n",
    "            linecolor = 'black',\n",
    "            linewidths = 0.5,\n",
    "            cbar = False)\n",
    "\n",
    "plt.show()"
   ]
  },
  {
   "cell_type": "markdown",
   "id": "97b063ba",
   "metadata": {},
   "source": [
    "There is high correlation between parents of same race, this is obvious as these variables are the result of the gender category that has been turned into dummy form. We could only keep one of each in case they show important significance to our model. \n",
    "\n",
    "The correlation matrix shows that the stronger correlations amongst categorical variables with weight are:\n",
    "-Positive correlation between race features when mother and father are black 0.13 and 0.12, I keep only one since both mother and father same race are very correlated. \n",
    "-Negative correlation when mother is white -0.11. \n",
    "-Baby being male positive correlation 0.11\n",
    "\n",
    "For the model I'm keeping only this features mentioned above.\n"
   ]
  },
  {
   "cell_type": "markdown",
   "id": "2712062a",
   "metadata": {},
   "source": [
    "COMPARE CORRELATIONS "
   ]
  },
  {
   "cell_type": "code",
   "execution_count": 53,
   "id": "2e219eae",
   "metadata": {
    "cell_style": "split"
   },
   "outputs": [
    {
     "name": "stdout",
     "output_type": "stream",
     "text": [
      "bwght        1.00\n",
      "log_bwght    0.97\n",
      "omaps        0.25\n",
      "fmaps        0.25\n",
      "log_feduc    0.16\n",
      "feduc        0.13\n",
      "mblck        0.13\n",
      "fblck        0.12\n",
      "male         0.11\n",
      "log_meduc    0.09\n",
      "meduc        0.09\n",
      "npvis        0.06\n",
      "m_npvis      0.06\n",
      "m_feduc     -0.00\n",
      "moth        -0.02\n",
      "fwhte       -0.04\n",
      "monpre      -0.05\n",
      "foth        -0.08\n",
      "mwhte       -0.11\n",
      "m_meduc     -0.13\n",
      "log_fage    -0.38\n",
      "fage        -0.40\n",
      "log_mage    -0.42\n",
      "mage        -0.46\n",
      "cigs        -0.57\n",
      "drink       -0.74\n",
      "Name: bwght, dtype: float64\n"
     ]
    }
   ],
   "source": [
    "# creating a (Pearson) correlation matrix\n",
    "df_corr = birth.corr().round(2)\n",
    "\n",
    "\n",
    "# printing (Pearson) correlations with SalePrice\n",
    "print(df_corr.loc['bwght'].sort_values(ascending = False))"
   ]
  },
  {
   "cell_type": "code",
   "execution_count": 54,
   "id": "8703d393",
   "metadata": {
    "cell_style": "split"
   },
   "outputs": [
    {
     "name": "stdout",
     "output_type": "stream",
     "text": [
      "log_bwght    1.00\n",
      "bwght        0.97\n",
      "fmaps        0.32\n",
      "omaps        0.31\n",
      "log_feduc    0.16\n",
      "feduc        0.13\n",
      "npvis        0.11\n",
      "meduc        0.09\n",
      "log_meduc    0.09\n",
      "fblck        0.09\n",
      "mblck        0.09\n",
      "male         0.08\n",
      "m_npvis      0.06\n",
      "moth         0.00\n",
      "fwhte       -0.04\n",
      "foth        -0.04\n",
      "m_feduc     -0.09\n",
      "monpre      -0.09\n",
      "mwhte       -0.11\n",
      "m_meduc     -0.24\n",
      "log_fage    -0.39\n",
      "fage        -0.41\n",
      "log_mage    -0.44\n",
      "mage        -0.50\n",
      "cigs        -0.55\n",
      "drink       -0.70\n",
      "Name: log_bwght, dtype: float64\n"
     ]
    }
   ],
   "source": [
    "# creating a (Pearson) correlation matrix\n",
    "df_corr = birth.corr().round(2)\n",
    "\n",
    "\n",
    "# printing (Pearson) correlations with SalePrice\n",
    "print(df_corr.loc['log_bwght'].sort_values(ascending = False))"
   ]
  },
  {
   "cell_type": "markdown",
   "id": "02b208a4",
   "metadata": {},
   "source": [
    "# OLS MODEL"
   ]
  },
  {
   "cell_type": "markdown",
   "id": "db2e42ad",
   "metadata": {},
   "source": [
    "Running a first OLS using all varibles, dropping the APGAR variables are not going to be used in the model.\n",
    "Also the columns created to flag missing values are not part of the model as missing values were already replaced.\n",
    "And dropping target variable original and logarithmic version."
   ]
  },
  {
   "cell_type": "code",
   "execution_count": 55,
   "id": "1209b608",
   "metadata": {},
   "outputs": [
    {
     "name": "stdout",
     "output_type": "stream",
     "text": [
      "mage+\n",
      "meduc+\n",
      "monpre+\n",
      "npvis+\n",
      "fage+\n",
      "feduc+\n",
      "cigs+\n",
      "drink+\n",
      "male+\n",
      "mwhte+\n",
      "mblck+\n",
      "moth+\n",
      "fwhte+\n",
      "fblck+\n",
      "foth+\n",
      "log_mage+\n",
      "log_fage+\n",
      "log_meduc+\n",
      "log_feduc+\n"
     ]
    }
   ],
   "source": [
    "# making a copy of birth data frame\n",
    "birth_EX = birth.copy()\n",
    "\n",
    "\n",
    "# dropping uncessary columns from the explanatory variable set\n",
    "birth_EX = birth_EX.drop(['omaps',\n",
    "                                 'fmaps','log_bwght',\n",
    "                                 'bwght', 'm_feduc','m_npvis',\n",
    "                                 'm_meduc'], axis = 1)\n",
    "\n",
    "\n",
    "# formatting each explanatory variable for statsmodels\n",
    "for val in birth_EX:\n",
    "    print(f\"{val}+\")\n",
    "   "
   ]
  },
  {
   "cell_type": "markdown",
   "id": "2f89ed5d",
   "metadata": {},
   "source": [
    "# FIRST MODEL WITH ALL VARIABLES. OLS MODEL"
   ]
  },
  {
   "cell_type": "markdown",
   "id": "19106ef3",
   "metadata": {},
   "source": [
    "SIMPLE REGRESSION TO EVALUATE P VALUES USE THESE OUTPUTS TO APPLY SCIKIT LEARN\n",
    "\n",
    "**FIRST USING LOG VERSION OF TARGET VAR**"
   ]
  },
  {
   "cell_type": "code",
   "execution_count": 56,
   "id": "07ace801",
   "metadata": {
    "cell_style": "split"
   },
   "outputs": [
    {
     "data": {
      "text/html": [
       "<table class=\"simpletable\">\n",
       "<caption>OLS Regression Results</caption>\n",
       "<tr>\n",
       "  <th>Dep. Variable:</th>        <td>log_bwght</td>    <th>  R-squared:         </th> <td>   0.711</td>\n",
       "</tr>\n",
       "<tr>\n",
       "  <th>Model:</th>                   <td>OLS</td>       <th>  Adj. R-squared:    </th> <td>   0.683</td>\n",
       "</tr>\n",
       "<tr>\n",
       "  <th>Method:</th>             <td>Least Squares</td>  <th>  F-statistic:       </th> <td>   25.71</td>\n",
       "</tr>\n",
       "<tr>\n",
       "  <th>Date:</th>             <td>Wed, 24 Nov 2021</td> <th>  Prob (F-statistic):</th> <td>3.97e-39</td>\n",
       "</tr>\n",
       "<tr>\n",
       "  <th>Time:</th>                 <td>14:18:26</td>     <th>  Log-Likelihood:    </th> <td>  130.05</td>\n",
       "</tr>\n",
       "<tr>\n",
       "  <th>No. Observations:</th>      <td>   196</td>      <th>  AIC:               </th> <td>  -224.1</td>\n",
       "</tr>\n",
       "<tr>\n",
       "  <th>Df Residuals:</th>          <td>   178</td>      <th>  BIC:               </th> <td>  -165.1</td>\n",
       "</tr>\n",
       "<tr>\n",
       "  <th>Df Model:</th>              <td>    17</td>      <th>                     </th>     <td> </td>   \n",
       "</tr>\n",
       "<tr>\n",
       "  <th>Covariance Type:</th>      <td>nonrobust</td>    <th>                     </th>     <td> </td>   \n",
       "</tr>\n",
       "</table>\n",
       "<table class=\"simpletable\">\n",
       "<tr>\n",
       "      <td></td>         <th>coef</th>     <th>std err</th>      <th>t</th>      <th>P>|t|</th>  <th>[0.025</th>    <th>0.975]</th>  \n",
       "</tr>\n",
       "<tr>\n",
       "  <th>Intercept</th> <td>    3.5401</td> <td>    0.991</td> <td>    3.571</td> <td> 0.000</td> <td>    1.584</td> <td>    5.496</td>\n",
       "</tr>\n",
       "<tr>\n",
       "  <th>mage</th>      <td>   -0.0329</td> <td>    0.006</td> <td>   -5.114</td> <td> 0.000</td> <td>   -0.046</td> <td>   -0.020</td>\n",
       "</tr>\n",
       "<tr>\n",
       "  <th>meduc</th>     <td>    0.0570</td> <td>    0.061</td> <td>    0.942</td> <td> 0.348</td> <td>   -0.063</td> <td>    0.177</td>\n",
       "</tr>\n",
       "<tr>\n",
       "  <th>monpre</th>    <td>    0.0003</td> <td>    0.008</td> <td>    0.035</td> <td> 0.972</td> <td>   -0.016</td> <td>    0.017</td>\n",
       "</tr>\n",
       "<tr>\n",
       "  <th>npvis</th>     <td>    0.0041</td> <td>    0.003</td> <td>    1.630</td> <td> 0.105</td> <td>   -0.001</td> <td>    0.009</td>\n",
       "</tr>\n",
       "<tr>\n",
       "  <th>fage</th>      <td>   -0.0058</td> <td>    0.007</td> <td>   -0.827</td> <td> 0.409</td> <td>   -0.020</td> <td>    0.008</td>\n",
       "</tr>\n",
       "<tr>\n",
       "  <th>feduc</th>     <td>   -0.0037</td> <td>    0.011</td> <td>   -0.350</td> <td> 0.727</td> <td>   -0.025</td> <td>    0.017</td>\n",
       "</tr>\n",
       "<tr>\n",
       "  <th>cigs</th>      <td>   -0.0127</td> <td>    0.002</td> <td>   -7.414</td> <td> 0.000</td> <td>   -0.016</td> <td>   -0.009</td>\n",
       "</tr>\n",
       "<tr>\n",
       "  <th>drink</th>     <td>   -0.0335</td> <td>    0.004</td> <td>   -9.133</td> <td> 0.000</td> <td>   -0.041</td> <td>   -0.026</td>\n",
       "</tr>\n",
       "<tr>\n",
       "  <th>male</th>      <td>   -0.0118</td> <td>    0.019</td> <td>   -0.609</td> <td> 0.543</td> <td>   -0.050</td> <td>    0.026</td>\n",
       "</tr>\n",
       "<tr>\n",
       "  <th>mwhte</th>     <td>    1.2062</td> <td>    0.335</td> <td>    3.596</td> <td> 0.000</td> <td>    0.544</td> <td>    1.868</td>\n",
       "</tr>\n",
       "<tr>\n",
       "  <th>mblck</th>     <td>    1.1618</td> <td>    0.332</td> <td>    3.498</td> <td> 0.001</td> <td>    0.506</td> <td>    1.817</td>\n",
       "</tr>\n",
       "<tr>\n",
       "  <th>moth</th>      <td>    1.1721</td> <td>    0.327</td> <td>    3.580</td> <td> 0.000</td> <td>    0.526</td> <td>    1.818</td>\n",
       "</tr>\n",
       "<tr>\n",
       "  <th>fwhte</th>     <td>    1.1629</td> <td>    0.330</td> <td>    3.528</td> <td> 0.001</td> <td>    0.512</td> <td>    1.813</td>\n",
       "</tr>\n",
       "<tr>\n",
       "  <th>fblck</th>     <td>    1.1933</td> <td>    0.331</td> <td>    3.602</td> <td> 0.000</td> <td>    0.539</td> <td>    1.847</td>\n",
       "</tr>\n",
       "<tr>\n",
       "  <th>foth</th>      <td>    1.1838</td> <td>    0.334</td> <td>    3.545</td> <td> 0.001</td> <td>    0.525</td> <td>    1.843</td>\n",
       "</tr>\n",
       "<tr>\n",
       "  <th>log_mage</th>  <td>    1.1560</td> <td>    0.261</td> <td>    4.430</td> <td> 0.000</td> <td>    0.641</td> <td>    1.671</td>\n",
       "</tr>\n",
       "<tr>\n",
       "  <th>log_fage</th>  <td>    0.1907</td> <td>    0.281</td> <td>    0.679</td> <td> 0.498</td> <td>   -0.363</td> <td>    0.745</td>\n",
       "</tr>\n",
       "<tr>\n",
       "  <th>log_meduc</th> <td>   -0.7007</td> <td>    0.819</td> <td>   -0.856</td> <td> 0.393</td> <td>   -2.316</td> <td>    0.915</td>\n",
       "</tr>\n",
       "<tr>\n",
       "  <th>log_feduc</th> <td>    0.0714</td> <td>    0.074</td> <td>    0.964</td> <td> 0.337</td> <td>   -0.075</td> <td>    0.218</td>\n",
       "</tr>\n",
       "</table>\n",
       "<table class=\"simpletable\">\n",
       "<tr>\n",
       "  <th>Omnibus:</th>       <td>106.490</td> <th>  Durbin-Watson:     </th> <td>   1.236</td> \n",
       "</tr>\n",
       "<tr>\n",
       "  <th>Prob(Omnibus):</th> <td> 0.000</td>  <th>  Jarque-Bera (JB):  </th> <td>1287.335</td> \n",
       "</tr>\n",
       "<tr>\n",
       "  <th>Skew:</th>          <td>-1.735</td>  <th>  Prob(JB):          </th> <td>2.88e-280</td>\n",
       "</tr>\n",
       "<tr>\n",
       "  <th>Kurtosis:</th>      <td>15.066</td>  <th>  Cond. No.          </th> <td>6.02e+17</td> \n",
       "</tr>\n",
       "</table><br/><br/>Notes:<br/>[1] Standard Errors assume that the covariance matrix of the errors is correctly specified.<br/>[2] The smallest eigenvalue is 2.16e-30. This might indicate that there are<br/>strong multicollinearity problems or that the design matrix is singular."
      ],
      "text/plain": [
       "<class 'statsmodels.iolib.summary.Summary'>\n",
       "\"\"\"\n",
       "                            OLS Regression Results                            \n",
       "==============================================================================\n",
       "Dep. Variable:              log_bwght   R-squared:                       0.711\n",
       "Model:                            OLS   Adj. R-squared:                  0.683\n",
       "Method:                 Least Squares   F-statistic:                     25.71\n",
       "Date:                Wed, 24 Nov 2021   Prob (F-statistic):           3.97e-39\n",
       "Time:                        14:18:26   Log-Likelihood:                 130.05\n",
       "No. Observations:                 196   AIC:                            -224.1\n",
       "Df Residuals:                     178   BIC:                            -165.1\n",
       "Df Model:                          17                                         \n",
       "Covariance Type:            nonrobust                                         \n",
       "==============================================================================\n",
       "                 coef    std err          t      P>|t|      [0.025      0.975]\n",
       "------------------------------------------------------------------------------\n",
       "Intercept      3.5401      0.991      3.571      0.000       1.584       5.496\n",
       "mage          -0.0329      0.006     -5.114      0.000      -0.046      -0.020\n",
       "meduc          0.0570      0.061      0.942      0.348      -0.063       0.177\n",
       "monpre         0.0003      0.008      0.035      0.972      -0.016       0.017\n",
       "npvis          0.0041      0.003      1.630      0.105      -0.001       0.009\n",
       "fage          -0.0058      0.007     -0.827      0.409      -0.020       0.008\n",
       "feduc         -0.0037      0.011     -0.350      0.727      -0.025       0.017\n",
       "cigs          -0.0127      0.002     -7.414      0.000      -0.016      -0.009\n",
       "drink         -0.0335      0.004     -9.133      0.000      -0.041      -0.026\n",
       "male          -0.0118      0.019     -0.609      0.543      -0.050       0.026\n",
       "mwhte          1.2062      0.335      3.596      0.000       0.544       1.868\n",
       "mblck          1.1618      0.332      3.498      0.001       0.506       1.817\n",
       "moth           1.1721      0.327      3.580      0.000       0.526       1.818\n",
       "fwhte          1.1629      0.330      3.528      0.001       0.512       1.813\n",
       "fblck          1.1933      0.331      3.602      0.000       0.539       1.847\n",
       "foth           1.1838      0.334      3.545      0.001       0.525       1.843\n",
       "log_mage       1.1560      0.261      4.430      0.000       0.641       1.671\n",
       "log_fage       0.1907      0.281      0.679      0.498      -0.363       0.745\n",
       "log_meduc     -0.7007      0.819     -0.856      0.393      -2.316       0.915\n",
       "log_feduc      0.0714      0.074      0.964      0.337      -0.075       0.218\n",
       "==============================================================================\n",
       "Omnibus:                      106.490   Durbin-Watson:                   1.236\n",
       "Prob(Omnibus):                  0.000   Jarque-Bera (JB):             1287.335\n",
       "Skew:                          -1.735   Prob(JB):                    2.88e-280\n",
       "Kurtosis:                      15.066   Cond. No.                     6.02e+17\n",
       "==============================================================================\n",
       "\n",
       "Notes:\n",
       "[1] Standard Errors assume that the covariance matrix of the errors is correctly specified.\n",
       "[2] The smallest eigenvalue is 2.16e-30. This might indicate that there are\n",
       "strong multicollinearity problems or that the design matrix is singular.\n",
       "\"\"\""
      ]
     },
     "execution_count": 56,
     "metadata": {},
     "output_type": "execute_result"
    }
   ],
   "source": [
    "# building a full model, with all variables first\n",
    "\n",
    "# blueprinting a model type\n",
    "lm_full = smf.ols(formula = \"\"\"log_bwght ~ mage+\n",
    "meduc+\n",
    "monpre+\n",
    "npvis+\n",
    "fage+\n",
    "feduc+\n",
    "cigs+\n",
    "drink+\n",
    "male+\n",
    "mwhte+\n",
    "mblck+\n",
    "moth+\n",
    "fwhte+\n",
    "fblck+\n",
    "foth+\n",
    "log_mage+\n",
    "log_fage+\n",
    "log_meduc+\n",
    "log_feduc\n",
    "\"\"\", data = birth)\n",
    "\n",
    "# telling Python to run the data through the blueprint\n",
    "results_full = lm_full.fit()\n",
    "\n",
    "\n",
    "# printing the results\n",
    "results_full.summary()"
   ]
  },
  {
   "cell_type": "markdown",
   "id": "bb476d2c",
   "metadata": {
    "cell_style": "split"
   },
   "source": [
    "From this first OLS using all variables, we can see the high p values affecting the model.\n",
    "Variables with High p values above 0.05 will be taken out of the model and use the new set of X variables."
   ]
  },
  {
   "cell_type": "markdown",
   "id": "f76ae02d",
   "metadata": {
    "cell_style": "split"
   },
   "source": [
    "AFTER SOME COMBINATIONS"
   ]
  },
  {
   "cell_type": "code",
   "execution_count": 57,
   "id": "2c1711eb",
   "metadata": {
    "cell_style": "split"
   },
   "outputs": [
    {
     "data": {
      "text/html": [
       "<table class=\"simpletable\">\n",
       "<caption>OLS Regression Results</caption>\n",
       "<tr>\n",
       "  <th>Dep. Variable:</th>        <td>log_bwght</td>    <th>  R-squared:         </th> <td>   0.657</td>\n",
       "</tr>\n",
       "<tr>\n",
       "  <th>Model:</th>                   <td>OLS</td>       <th>  Adj. R-squared:    </th> <td>   0.648</td>\n",
       "</tr>\n",
       "<tr>\n",
       "  <th>Method:</th>             <td>Least Squares</td>  <th>  F-statistic:       </th> <td>   72.72</td>\n",
       "</tr>\n",
       "<tr>\n",
       "  <th>Date:</th>             <td>Wed, 24 Nov 2021</td> <th>  Prob (F-statistic):</th> <td>2.89e-42</td>\n",
       "</tr>\n",
       "<tr>\n",
       "  <th>Time:</th>                 <td>14:18:26</td>     <th>  Log-Likelihood:    </th> <td>  113.34</td>\n",
       "</tr>\n",
       "<tr>\n",
       "  <th>No. Observations:</th>      <td>   196</td>      <th>  AIC:               </th> <td>  -214.7</td>\n",
       "</tr>\n",
       "<tr>\n",
       "  <th>Df Residuals:</th>          <td>   190</td>      <th>  BIC:               </th> <td>  -195.0</td>\n",
       "</tr>\n",
       "<tr>\n",
       "  <th>Df Model:</th>              <td>     5</td>      <th>                     </th>     <td> </td>   \n",
       "</tr>\n",
       "<tr>\n",
       "  <th>Covariance Type:</th>      <td>nonrobust</td>    <th>                     </th>     <td> </td>   \n",
       "</tr>\n",
       "</table>\n",
       "<table class=\"simpletable\">\n",
       "<tr>\n",
       "      <td></td>         <th>coef</th>     <th>std err</th>      <th>t</th>      <th>P>|t|</th>  <th>[0.025</th>    <th>0.975]</th>  \n",
       "</tr>\n",
       "<tr>\n",
       "  <th>Intercept</th> <td>    6.5125</td> <td>    0.031</td> <td>  208.022</td> <td> 0.000</td> <td>    6.451</td> <td>    6.574</td>\n",
       "</tr>\n",
       "<tr>\n",
       "  <th>mage</th>      <td>   -0.0063</td> <td>    0.001</td> <td>   -6.142</td> <td> 0.000</td> <td>   -0.008</td> <td>   -0.004</td>\n",
       "</tr>\n",
       "<tr>\n",
       "  <th>cigs</th>      <td>   -0.0129</td> <td>    0.002</td> <td>   -7.287</td> <td> 0.000</td> <td>   -0.016</td> <td>   -0.009</td>\n",
       "</tr>\n",
       "<tr>\n",
       "  <th>drink</th>     <td>   -0.0372</td> <td>    0.004</td> <td>   -9.914</td> <td> 0.000</td> <td>   -0.045</td> <td>   -0.030</td>\n",
       "</tr>\n",
       "<tr>\n",
       "  <th>mwhte</th>     <td>    2.1651</td> <td>    0.019</td> <td>  115.536</td> <td> 0.000</td> <td>    2.128</td> <td>    2.202</td>\n",
       "</tr>\n",
       "<tr>\n",
       "  <th>mblck</th>     <td>    2.1611</td> <td>    0.016</td> <td>  131.478</td> <td> 0.000</td> <td>    2.129</td> <td>    2.194</td>\n",
       "</tr>\n",
       "<tr>\n",
       "  <th>moth</th>      <td>    2.1863</td> <td>    0.018</td> <td>  121.816</td> <td> 0.000</td> <td>    2.151</td> <td>    2.222</td>\n",
       "</tr>\n",
       "</table>\n",
       "<table class=\"simpletable\">\n",
       "<tr>\n",
       "  <th>Omnibus:</th>       <td>145.011</td> <th>  Durbin-Watson:     </th> <td>   1.139</td>\n",
       "</tr>\n",
       "<tr>\n",
       "  <th>Prob(Omnibus):</th> <td> 0.000</td>  <th>  Jarque-Bera (JB):  </th> <td>2692.701</td>\n",
       "</tr>\n",
       "<tr>\n",
       "  <th>Skew:</th>          <td>-2.499</td>  <th>  Prob(JB):          </th> <td>    0.00</td>\n",
       "</tr>\n",
       "<tr>\n",
       "  <th>Kurtosis:</th>      <td>20.457</td>  <th>  Cond. No.          </th> <td>2.61e+17</td>\n",
       "</tr>\n",
       "</table><br/><br/>Notes:<br/>[1] Standard Errors assume that the covariance matrix of the errors is correctly specified.<br/>[2] The smallest eigenvalue is 5.38e-30. This might indicate that there are<br/>strong multicollinearity problems or that the design matrix is singular."
      ],
      "text/plain": [
       "<class 'statsmodels.iolib.summary.Summary'>\n",
       "\"\"\"\n",
       "                            OLS Regression Results                            \n",
       "==============================================================================\n",
       "Dep. Variable:              log_bwght   R-squared:                       0.657\n",
       "Model:                            OLS   Adj. R-squared:                  0.648\n",
       "Method:                 Least Squares   F-statistic:                     72.72\n",
       "Date:                Wed, 24 Nov 2021   Prob (F-statistic):           2.89e-42\n",
       "Time:                        14:18:26   Log-Likelihood:                 113.34\n",
       "No. Observations:                 196   AIC:                            -214.7\n",
       "Df Residuals:                     190   BIC:                            -195.0\n",
       "Df Model:                           5                                         \n",
       "Covariance Type:            nonrobust                                         \n",
       "==============================================================================\n",
       "                 coef    std err          t      P>|t|      [0.025      0.975]\n",
       "------------------------------------------------------------------------------\n",
       "Intercept      6.5125      0.031    208.022      0.000       6.451       6.574\n",
       "mage          -0.0063      0.001     -6.142      0.000      -0.008      -0.004\n",
       "cigs          -0.0129      0.002     -7.287      0.000      -0.016      -0.009\n",
       "drink         -0.0372      0.004     -9.914      0.000      -0.045      -0.030\n",
       "mwhte          2.1651      0.019    115.536      0.000       2.128       2.202\n",
       "mblck          2.1611      0.016    131.478      0.000       2.129       2.194\n",
       "moth           2.1863      0.018    121.816      0.000       2.151       2.222\n",
       "==============================================================================\n",
       "Omnibus:                      145.011   Durbin-Watson:                   1.139\n",
       "Prob(Omnibus):                  0.000   Jarque-Bera (JB):             2692.701\n",
       "Skew:                          -2.499   Prob(JB):                         0.00\n",
       "Kurtosis:                      20.457   Cond. No.                     2.61e+17\n",
       "==============================================================================\n",
       "\n",
       "Notes:\n",
       "[1] Standard Errors assume that the covariance matrix of the errors is correctly specified.\n",
       "[2] The smallest eigenvalue is 5.38e-30. This might indicate that there are\n",
       "strong multicollinearity problems or that the design matrix is singular.\n",
       "\"\"\""
      ]
     },
     "execution_count": 57,
     "metadata": {},
     "output_type": "execute_result"
    }
   ],
   "source": [
    "# blueprinting a model type\n",
    "lm_full = smf.ols(formula = \"\"\"log_bwght ~ mage+\n",
    "\n",
    "cigs+\n",
    "drink+\n",
    "mwhte+\n",
    "mblck+\n",
    "moth\n",
    "\"\"\", data = birth)\n",
    "\n",
    "# telling Python to run the data through the blueprint\n",
    "results_full = lm_full.fit()\n",
    "\n",
    "\n",
    "# printing the results\n",
    "results_full.summary()"
   ]
  },
  {
   "cell_type": "markdown",
   "id": "5a587ae6",
   "metadata": {},
   "source": [
    "**OLS USING TARGET VARIABLE ORIGNAL VERSION**"
   ]
  },
  {
   "cell_type": "code",
   "execution_count": 58,
   "id": "7f1b46b9",
   "metadata": {
    "cell_style": "split"
   },
   "outputs": [
    {
     "data": {
      "text/html": [
       "<table class=\"simpletable\">\n",
       "<caption>OLS Regression Results</caption>\n",
       "<tr>\n",
       "  <th>Dep. Variable:</th>          <td>bwght</td>      <th>  R-squared:         </th> <td>   0.736</td>\n",
       "</tr>\n",
       "<tr>\n",
       "  <th>Model:</th>                   <td>OLS</td>       <th>  Adj. R-squared:    </th> <td>   0.711</td>\n",
       "</tr>\n",
       "<tr>\n",
       "  <th>Method:</th>             <td>Least Squares</td>  <th>  F-statistic:       </th> <td>   29.25</td>\n",
       "</tr>\n",
       "<tr>\n",
       "  <th>Date:</th>             <td>Wed, 24 Nov 2021</td> <th>  Prob (F-statistic):</th> <td>1.28e-42</td>\n",
       "</tr>\n",
       "<tr>\n",
       "  <th>Time:</th>                 <td>14:18:26</td>     <th>  Log-Likelihood:    </th> <td> -1415.4</td>\n",
       "</tr>\n",
       "<tr>\n",
       "  <th>No. Observations:</th>      <td>   196</td>      <th>  AIC:               </th> <td>   2867.</td>\n",
       "</tr>\n",
       "<tr>\n",
       "  <th>Df Residuals:</th>          <td>   178</td>      <th>  BIC:               </th> <td>   2926.</td>\n",
       "</tr>\n",
       "<tr>\n",
       "  <th>Df Model:</th>              <td>    17</td>      <th>                     </th>     <td> </td>   \n",
       "</tr>\n",
       "<tr>\n",
       "  <th>Covariance Type:</th>      <td>nonrobust</td>    <th>                     </th>     <td> </td>   \n",
       "</tr>\n",
       "</table>\n",
       "<table class=\"simpletable\">\n",
       "<tr>\n",
       "      <td></td>         <th>coef</th>     <th>std err</th>      <th>t</th>      <th>P>|t|</th>  <th>[0.025</th>    <th>0.975]</th>  \n",
       "</tr>\n",
       "<tr>\n",
       "  <th>Intercept</th> <td>-1025.1412</td> <td> 2634.454</td> <td>   -0.389</td> <td> 0.698</td> <td>-6223.922</td> <td> 4173.640</td>\n",
       "</tr>\n",
       "<tr>\n",
       "  <th>mage</th>      <td>  -60.4098</td> <td>   17.120</td> <td>   -3.529</td> <td> 0.001</td> <td>  -94.194</td> <td>  -26.626</td>\n",
       "</tr>\n",
       "<tr>\n",
       "  <th>meduc</th>     <td>  112.0999</td> <td>  161.013</td> <td>    0.696</td> <td> 0.487</td> <td> -205.640</td> <td>  429.839</td>\n",
       "</tr>\n",
       "<tr>\n",
       "  <th>monpre</th>    <td>   11.6045</td> <td>   22.403</td> <td>    0.518</td> <td> 0.605</td> <td>  -32.605</td> <td>   55.814</td>\n",
       "</tr>\n",
       "<tr>\n",
       "  <th>npvis</th>     <td>    4.5900</td> <td>    6.650</td> <td>    0.690</td> <td> 0.491</td> <td>   -8.533</td> <td>   17.713</td>\n",
       "</tr>\n",
       "<tr>\n",
       "  <th>fage</th>      <td>  -22.9022</td> <td>   18.525</td> <td>   -1.236</td> <td> 0.218</td> <td>  -59.458</td> <td>   13.654</td>\n",
       "</tr>\n",
       "<tr>\n",
       "  <th>feduc</th>     <td>  -12.3198</td> <td>   28.253</td> <td>   -0.436</td> <td> 0.663</td> <td>  -68.074</td> <td>   43.434</td>\n",
       "</tr>\n",
       "<tr>\n",
       "  <th>cigs</th>      <td>  -35.8182</td> <td>    4.565</td> <td>   -7.847</td> <td> 0.000</td> <td>  -44.826</td> <td>  -26.810</td>\n",
       "</tr>\n",
       "<tr>\n",
       "  <th>drink</th>     <td> -109.7222</td> <td>    9.748</td> <td>  -11.256</td> <td> 0.000</td> <td> -128.959</td> <td>  -90.486</td>\n",
       "</tr>\n",
       "<tr>\n",
       "  <th>male</th>      <td>    6.1933</td> <td>   51.562</td> <td>    0.120</td> <td> 0.905</td> <td>  -95.558</td> <td>  107.944</td>\n",
       "</tr>\n",
       "<tr>\n",
       "  <th>mwhte</th>     <td> -267.6772</td> <td>  891.338</td> <td>   -0.300</td> <td> 0.764</td> <td>-2026.626</td> <td> 1491.272</td>\n",
       "</tr>\n",
       "<tr>\n",
       "  <th>mblck</th>     <td> -407.8662</td> <td>  882.590</td> <td>   -0.462</td> <td> 0.645</td> <td>-2149.553</td> <td> 1333.821</td>\n",
       "</tr>\n",
       "<tr>\n",
       "  <th>moth</th>      <td> -349.5978</td> <td>  870.076</td> <td>   -0.402</td> <td> 0.688</td> <td>-2066.589</td> <td> 1367.393</td>\n",
       "</tr>\n",
       "<tr>\n",
       "  <th>fwhte</th>     <td> -384.6411</td> <td>  875.896</td> <td>   -0.439</td> <td> 0.661</td> <td>-2113.117</td> <td> 1343.835</td>\n",
       "</tr>\n",
       "<tr>\n",
       "  <th>fblck</th>     <td> -265.4994</td> <td>  880.559</td> <td>   -0.302</td> <td> 0.763</td> <td>-2003.179</td> <td> 1472.180</td>\n",
       "</tr>\n",
       "<tr>\n",
       "  <th>foth</th>      <td> -375.0006</td> <td>  887.442</td> <td>   -0.423</td> <td> 0.673</td> <td>-2126.262</td> <td> 1376.261</td>\n",
       "</tr>\n",
       "<tr>\n",
       "  <th>log_mage</th>  <td> 2052.8955</td> <td>  693.468</td> <td>    2.960</td> <td> 0.003</td> <td>  684.420</td> <td> 3421.371</td>\n",
       "</tr>\n",
       "<tr>\n",
       "  <th>log_fage</th>  <td>  804.6512</td> <td>  746.064</td> <td>    1.079</td> <td> 0.282</td> <td> -667.617</td> <td> 2276.920</td>\n",
       "</tr>\n",
       "<tr>\n",
       "  <th>log_meduc</th> <td>-1194.3194</td> <td> 2175.989</td> <td>   -0.549</td> <td> 0.584</td> <td>-5488.374</td> <td> 3099.735</td>\n",
       "</tr>\n",
       "<tr>\n",
       "  <th>log_feduc</th> <td>  217.3058</td> <td>  196.843</td> <td>    1.104</td> <td> 0.271</td> <td> -171.141</td> <td>  605.753</td>\n",
       "</tr>\n",
       "</table>\n",
       "<table class=\"simpletable\">\n",
       "<tr>\n",
       "  <th>Omnibus:</th>       <td> 2.851</td> <th>  Durbin-Watson:     </th> <td>   1.332</td>\n",
       "</tr>\n",
       "<tr>\n",
       "  <th>Prob(Omnibus):</th> <td> 0.240</td> <th>  Jarque-Bera (JB):  </th> <td>   3.051</td>\n",
       "</tr>\n",
       "<tr>\n",
       "  <th>Skew:</th>          <td> 0.006</td> <th>  Prob(JB):          </th> <td>   0.217</td>\n",
       "</tr>\n",
       "<tr>\n",
       "  <th>Kurtosis:</th>      <td> 3.611</td> <th>  Cond. No.          </th> <td>6.02e+17</td>\n",
       "</tr>\n",
       "</table><br/><br/>Notes:<br/>[1] Standard Errors assume that the covariance matrix of the errors is correctly specified.<br/>[2] The smallest eigenvalue is 2.16e-30. This might indicate that there are<br/>strong multicollinearity problems or that the design matrix is singular."
      ],
      "text/plain": [
       "<class 'statsmodels.iolib.summary.Summary'>\n",
       "\"\"\"\n",
       "                            OLS Regression Results                            \n",
       "==============================================================================\n",
       "Dep. Variable:                  bwght   R-squared:                       0.736\n",
       "Model:                            OLS   Adj. R-squared:                  0.711\n",
       "Method:                 Least Squares   F-statistic:                     29.25\n",
       "Date:                Wed, 24 Nov 2021   Prob (F-statistic):           1.28e-42\n",
       "Time:                        14:18:26   Log-Likelihood:                -1415.4\n",
       "No. Observations:                 196   AIC:                             2867.\n",
       "Df Residuals:                     178   BIC:                             2926.\n",
       "Df Model:                          17                                         \n",
       "Covariance Type:            nonrobust                                         \n",
       "==============================================================================\n",
       "                 coef    std err          t      P>|t|      [0.025      0.975]\n",
       "------------------------------------------------------------------------------\n",
       "Intercept  -1025.1412   2634.454     -0.389      0.698   -6223.922    4173.640\n",
       "mage         -60.4098     17.120     -3.529      0.001     -94.194     -26.626\n",
       "meduc        112.0999    161.013      0.696      0.487    -205.640     429.839\n",
       "monpre        11.6045     22.403      0.518      0.605     -32.605      55.814\n",
       "npvis          4.5900      6.650      0.690      0.491      -8.533      17.713\n",
       "fage         -22.9022     18.525     -1.236      0.218     -59.458      13.654\n",
       "feduc        -12.3198     28.253     -0.436      0.663     -68.074      43.434\n",
       "cigs         -35.8182      4.565     -7.847      0.000     -44.826     -26.810\n",
       "drink       -109.7222      9.748    -11.256      0.000    -128.959     -90.486\n",
       "male           6.1933     51.562      0.120      0.905     -95.558     107.944\n",
       "mwhte       -267.6772    891.338     -0.300      0.764   -2026.626    1491.272\n",
       "mblck       -407.8662    882.590     -0.462      0.645   -2149.553    1333.821\n",
       "moth        -349.5978    870.076     -0.402      0.688   -2066.589    1367.393\n",
       "fwhte       -384.6411    875.896     -0.439      0.661   -2113.117    1343.835\n",
       "fblck       -265.4994    880.559     -0.302      0.763   -2003.179    1472.180\n",
       "foth        -375.0006    887.442     -0.423      0.673   -2126.262    1376.261\n",
       "log_mage    2052.8955    693.468      2.960      0.003     684.420    3421.371\n",
       "log_fage     804.6512    746.064      1.079      0.282    -667.617    2276.920\n",
       "log_meduc  -1194.3194   2175.989     -0.549      0.584   -5488.374    3099.735\n",
       "log_feduc    217.3058    196.843      1.104      0.271    -171.141     605.753\n",
       "==============================================================================\n",
       "Omnibus:                        2.851   Durbin-Watson:                   1.332\n",
       "Prob(Omnibus):                  0.240   Jarque-Bera (JB):                3.051\n",
       "Skew:                           0.006   Prob(JB):                        0.217\n",
       "Kurtosis:                       3.611   Cond. No.                     6.02e+17\n",
       "==============================================================================\n",
       "\n",
       "Notes:\n",
       "[1] Standard Errors assume that the covariance matrix of the errors is correctly specified.\n",
       "[2] The smallest eigenvalue is 2.16e-30. This might indicate that there are\n",
       "strong multicollinearity problems or that the design matrix is singular.\n",
       "\"\"\""
      ]
     },
     "execution_count": 58,
     "metadata": {},
     "output_type": "execute_result"
    }
   ],
   "source": [
    "# building a full model, with all variables first\n",
    "\n",
    "# blueprinting a model type\n",
    "lm_full = smf.ols(formula = \"\"\"bwght ~ mage+\n",
    "meduc+\n",
    "monpre+\n",
    "npvis+\n",
    "fage+\n",
    "feduc+\n",
    "cigs+\n",
    "drink+\n",
    "male+\n",
    "mwhte+\n",
    "mblck+\n",
    "moth+\n",
    "fwhte+\n",
    "fblck+\n",
    "foth+\n",
    "log_mage+\n",
    "log_fage+\n",
    "log_meduc+\n",
    "log_feduc\n",
    "\"\"\", data = birth)\n",
    "\n",
    "# telling Python to run the data through the blueprint\n",
    "results_full = lm_full.fit()\n",
    "\n",
    "\n",
    "# printing the results\n",
    "results_full.summary()"
   ]
  },
  {
   "cell_type": "markdown",
   "id": "64b6fe7a",
   "metadata": {
    "cell_style": "split"
   },
   "source": [
    "After many tries, found a combination of 0 p values"
   ]
  },
  {
   "cell_type": "code",
   "execution_count": 59,
   "id": "d2133d55",
   "metadata": {
    "cell_style": "split"
   },
   "outputs": [
    {
     "data": {
      "text/html": [
       "<table class=\"simpletable\">\n",
       "<caption>OLS Regression Results</caption>\n",
       "<tr>\n",
       "  <th>Dep. Variable:</th>          <td>bwght</td>      <th>  R-squared:         </th> <td>   0.694</td>\n",
       "</tr>\n",
       "<tr>\n",
       "  <th>Model:</th>                   <td>OLS</td>       <th>  Adj. R-squared:    </th> <td>   0.684</td>\n",
       "</tr>\n",
       "<tr>\n",
       "  <th>Method:</th>             <td>Least Squares</td>  <th>  F-statistic:       </th> <td>   71.32</td>\n",
       "</tr>\n",
       "<tr>\n",
       "  <th>Date:</th>             <td>Wed, 24 Nov 2021</td> <th>  Prob (F-statistic):</th> <td>6.31e-46</td>\n",
       "</tr>\n",
       "<tr>\n",
       "  <th>Time:</th>                 <td>14:18:26</td>     <th>  Log-Likelihood:    </th> <td> -1430.2</td>\n",
       "</tr>\n",
       "<tr>\n",
       "  <th>No. Observations:</th>      <td>   196</td>      <th>  AIC:               </th> <td>   2874.</td>\n",
       "</tr>\n",
       "<tr>\n",
       "  <th>Df Residuals:</th>          <td>   189</td>      <th>  BIC:               </th> <td>   2897.</td>\n",
       "</tr>\n",
       "<tr>\n",
       "  <th>Df Model:</th>              <td>     6</td>      <th>                     </th>     <td> </td>   \n",
       "</tr>\n",
       "<tr>\n",
       "  <th>Covariance Type:</th>      <td>nonrobust</td>    <th>                     </th>     <td> </td>   \n",
       "</tr>\n",
       "</table>\n",
       "<table class=\"simpletable\">\n",
       "<tr>\n",
       "      <td></td>         <th>coef</th>     <th>std err</th>      <th>t</th>      <th>P>|t|</th>  <th>[0.025</th>    <th>0.975]</th>  \n",
       "</tr>\n",
       "<tr>\n",
       "  <th>Intercept</th> <td> 3348.6434</td> <td>  182.099</td> <td>   18.389</td> <td> 0.000</td> <td> 2989.436</td> <td> 3707.851</td>\n",
       "</tr>\n",
       "<tr>\n",
       "  <th>fage</th>      <td>  -11.7556</td> <td>    3.051</td> <td>   -3.853</td> <td> 0.000</td> <td>  -17.774</td> <td>   -5.737</td>\n",
       "</tr>\n",
       "<tr>\n",
       "  <th>cigs</th>      <td>  -36.9785</td> <td>    4.693</td> <td>   -7.880</td> <td> 0.000</td> <td>  -46.235</td> <td>  -27.722</td>\n",
       "</tr>\n",
       "<tr>\n",
       "  <th>drink</th>     <td> -122.3987</td> <td>    9.728</td> <td>  -12.582</td> <td> 0.000</td> <td> -141.588</td> <td> -103.210</td>\n",
       "</tr>\n",
       "<tr>\n",
       "  <th>mwhte</th>     <td> 1138.1296</td> <td>   65.203</td> <td>   17.455</td> <td> 0.000</td> <td> 1009.511</td> <td> 1266.748</td>\n",
       "</tr>\n",
       "<tr>\n",
       "  <th>mblck</th>     <td> 1116.0226</td> <td>   64.105</td> <td>   17.409</td> <td> 0.000</td> <td>  989.570</td> <td> 1242.475</td>\n",
       "</tr>\n",
       "<tr>\n",
       "  <th>moth</th>      <td> 1094.4912</td> <td>   86.883</td> <td>   12.597</td> <td> 0.000</td> <td>  923.107</td> <td> 1265.875</td>\n",
       "</tr>\n",
       "<tr>\n",
       "  <th>meduc</th>     <td>   28.5789</td> <td>   14.563</td> <td>    1.962</td> <td> 0.051</td> <td>   -0.148</td> <td>   57.306</td>\n",
       "</tr>\n",
       "</table>\n",
       "<table class=\"simpletable\">\n",
       "<tr>\n",
       "  <th>Omnibus:</th>       <td> 8.569</td> <th>  Durbin-Watson:     </th> <td>   1.293</td>\n",
       "</tr>\n",
       "<tr>\n",
       "  <th>Prob(Omnibus):</th> <td> 0.014</td> <th>  Jarque-Bera (JB):  </th> <td>  15.239</td>\n",
       "</tr>\n",
       "<tr>\n",
       "  <th>Skew:</th>          <td>-0.139</td> <th>  Prob(JB):          </th> <td>0.000491</td>\n",
       "</tr>\n",
       "<tr>\n",
       "  <th>Kurtosis:</th>      <td> 4.337</td> <th>  Cond. No.          </th> <td>2.29e+17</td>\n",
       "</tr>\n",
       "</table><br/><br/>Notes:<br/>[1] Standard Errors assume that the covariance matrix of the errors is correctly specified.<br/>[2] The smallest eigenvalue is 7.31e-30. This might indicate that there are<br/>strong multicollinearity problems or that the design matrix is singular."
      ],
      "text/plain": [
       "<class 'statsmodels.iolib.summary.Summary'>\n",
       "\"\"\"\n",
       "                            OLS Regression Results                            \n",
       "==============================================================================\n",
       "Dep. Variable:                  bwght   R-squared:                       0.694\n",
       "Model:                            OLS   Adj. R-squared:                  0.684\n",
       "Method:                 Least Squares   F-statistic:                     71.32\n",
       "Date:                Wed, 24 Nov 2021   Prob (F-statistic):           6.31e-46\n",
       "Time:                        14:18:26   Log-Likelihood:                -1430.2\n",
       "No. Observations:                 196   AIC:                             2874.\n",
       "Df Residuals:                     189   BIC:                             2897.\n",
       "Df Model:                           6                                         \n",
       "Covariance Type:            nonrobust                                         \n",
       "==============================================================================\n",
       "                 coef    std err          t      P>|t|      [0.025      0.975]\n",
       "------------------------------------------------------------------------------\n",
       "Intercept   3348.6434    182.099     18.389      0.000    2989.436    3707.851\n",
       "fage         -11.7556      3.051     -3.853      0.000     -17.774      -5.737\n",
       "cigs         -36.9785      4.693     -7.880      0.000     -46.235     -27.722\n",
       "drink       -122.3987      9.728    -12.582      0.000    -141.588    -103.210\n",
       "mwhte       1138.1296     65.203     17.455      0.000    1009.511    1266.748\n",
       "mblck       1116.0226     64.105     17.409      0.000     989.570    1242.475\n",
       "moth        1094.4912     86.883     12.597      0.000     923.107    1265.875\n",
       "meduc         28.5789     14.563      1.962      0.051      -0.148      57.306\n",
       "==============================================================================\n",
       "Omnibus:                        8.569   Durbin-Watson:                   1.293\n",
       "Prob(Omnibus):                  0.014   Jarque-Bera (JB):               15.239\n",
       "Skew:                          -0.139   Prob(JB):                     0.000491\n",
       "Kurtosis:                       4.337   Cond. No.                     2.29e+17\n",
       "==============================================================================\n",
       "\n",
       "Notes:\n",
       "[1] Standard Errors assume that the covariance matrix of the errors is correctly specified.\n",
       "[2] The smallest eigenvalue is 7.31e-30. This might indicate that there are\n",
       "strong multicollinearity problems or that the design matrix is singular.\n",
       "\"\"\""
      ]
     },
     "execution_count": 59,
     "metadata": {},
     "output_type": "execute_result"
    }
   ],
   "source": [
    "# building a full model, with all variables first\n",
    "\n",
    "# blueprinting a model type\n",
    "lm_full = smf.ols(formula = \"\"\"bwght ~ fage+\n",
    "cigs+\n",
    "drink+\n",
    "mwhte+\n",
    "mblck+\n",
    "moth+\n",
    "meduc\n",
    "\n",
    "\"\"\", data = birth)\n",
    "\n",
    "# telling Python to run the data through the blueprint\n",
    "results_full = lm_full.fit()\n",
    "\n",
    "\n",
    "# printing the results\n",
    "results_full.summary()"
   ]
  },
  {
   "cell_type": "markdown",
   "id": "29d359f0",
   "metadata": {
    "cell_style": "split"
   },
   "source": [
    "\n",
    "\n",
    "\n",
    "\n",
    "\n",
    "**Using the Orignal version of the target variable results in a Higher R square value when eliminating all non significant variables**"
   ]
  },
  {
   "cell_type": "code",
   "execution_count": 60,
   "id": "96585de9",
   "metadata": {},
   "outputs": [
    {
     "name": "stdout",
     "output_type": "stream",
     "text": [
      "<class 'pandas.core.frame.DataFrame'>\n",
      "RangeIndex: 196 entries, 0 to 195\n",
      "Data columns (total 26 columns):\n",
      " #   Column     Non-Null Count  Dtype  \n",
      "---  ------     --------------  -----  \n",
      " 0   mage       196 non-null    int64  \n",
      " 1   meduc      196 non-null    float64\n",
      " 2   monpre     196 non-null    int64  \n",
      " 3   npvis      196 non-null    float64\n",
      " 4   fage       196 non-null    int64  \n",
      " 5   feduc      196 non-null    float64\n",
      " 6   omaps      196 non-null    int64  \n",
      " 7   fmaps      196 non-null    int64  \n",
      " 8   cigs       196 non-null    int64  \n",
      " 9   drink      196 non-null    int64  \n",
      " 10  male       196 non-null    int64  \n",
      " 11  mwhte      196 non-null    int64  \n",
      " 12  mblck      196 non-null    int64  \n",
      " 13  moth       196 non-null    int64  \n",
      " 14  fwhte      196 non-null    int64  \n",
      " 15  fblck      196 non-null    int64  \n",
      " 16  foth       196 non-null    int64  \n",
      " 17  bwght      196 non-null    int64  \n",
      " 18  m_meduc    196 non-null    int64  \n",
      " 19  m_npvis    196 non-null    int64  \n",
      " 20  m_feduc    196 non-null    int64  \n",
      " 21  log_bwght  196 non-null    float64\n",
      " 22  log_mage   196 non-null    float64\n",
      " 23  log_fage   196 non-null    float64\n",
      " 24  log_meduc  196 non-null    float64\n",
      " 25  log_feduc  196 non-null    float64\n",
      "dtypes: float64(8), int64(18)\n",
      "memory usage: 39.9 KB\n"
     ]
    }
   ],
   "source": [
    "birth.info()"
   ]
  },
  {
   "cell_type": "markdown",
   "id": "2a83540a",
   "metadata": {},
   "source": [
    "# OLS Scikit-Learn Model "
   ]
  },
  {
   "cell_type": "code",
   "execution_count": 61,
   "id": "9c684dff",
   "metadata": {},
   "outputs": [
    {
     "name": "stdout",
     "output_type": "stream",
     "text": [
      "'mage',\n",
      "'meduc',\n",
      "'monpre',\n",
      "'npvis',\n",
      "'fage',\n",
      "'feduc',\n",
      "'omaps',\n",
      "'fmaps',\n",
      "'cigs',\n",
      "'drink',\n",
      "'male',\n",
      "'mwhte',\n",
      "'mblck',\n",
      "'moth',\n",
      "'fwhte',\n",
      "'fblck',\n",
      "'foth',\n",
      "'bwght',\n",
      "'m_meduc',\n",
      "'m_npvis',\n",
      "'m_feduc',\n",
      "'log_bwght',\n",
      "'log_mage',\n",
      "'log_fage',\n",
      "'log_meduc',\n",
      "'log_feduc',\n"
     ]
    }
   ],
   "source": [
    "for val in birth:\n",
    "    print(f\"'{val}',\")\n",
    "   "
   ]
  },
  {
   "cell_type": "code",
   "execution_count": 62,
   "id": "b07a594a",
   "metadata": {},
   "outputs": [],
   "source": [
    "\n",
    "# preparing explanatory variable data\n",
    "birth_data   = birth.drop([\n",
    "'mage',\n",
    "'monpre',\n",
    "'npvis',\n",
    "'feduc',\n",
    "'omaps',\n",
    "'fmaps',\n",
    "'male',\n",
    "'fwhte',\n",
    "'fblck',\n",
    "'foth',\n",
    "'bwght',\n",
    "'m_meduc',\n",
    "'m_npvis',\n",
    "'m_feduc',\n",
    "'log_bwght',\n",
    "'log_mage',\n",
    "'log_fage',\n",
    "'log_meduc',\n",
    "'log_feduc',\n",
    "],axis = 1)\n",
    "\n",
    "# preparing response variables\n",
    "birth_target = birth.loc[ : , 'bwght']\n",
    "log_birth_target = birth.loc[ : , 'log_bwght']\n",
    "\n"
   ]
  },
  {
   "cell_type": "code",
   "execution_count": 63,
   "id": "11a7630a",
   "metadata": {},
   "outputs": [],
   "source": [
    "# applying modelin scikit-learn cleaned data\n",
    "x_var =['cigs','drink','fage','mblck','mwhte','moth','meduc']\n",
    "\n",
    "# preparing x-variables from the OLS model\n",
    "ols_data = birth.loc[:, x_var]\n",
    "\n",
    "###############################################\n",
    "## setting up more than one train-test split ##\n",
    "###############################################\n",
    "# FULL X-dataset (normal Y)\n",
    "x_train_FULL, x_test_FULL, y_train_FULL, y_test_FULL = train_test_split(\n",
    "            birth_data,     # x-variables Using cleaned data to try on Lasso and ARD\n",
    "            birth_target,   # y-variable\n",
    "            test_size = 0.25,\n",
    "            random_state = 219)\n",
    "\n",
    "\n",
    "# OLS p-value x-dataset (normal Y)\n",
    "x_train_OLS, x_test_OLS, y_train_OLS, y_test_OLS = train_test_split(\n",
    "            ols_data,         # x-variables\n",
    "            birth_target,   # y-variable\n",
    "            test_size = 0.25,\n",
    "            random_state = 219)\n"
   ]
  },
  {
   "cell_type": "markdown",
   "id": "fa42c85b",
   "metadata": {},
   "source": [
    "**USING OLS DATA**"
   ]
  },
  {
   "cell_type": "code",
   "execution_count": 64,
   "id": "cbf8ca07",
   "metadata": {},
   "outputs": [
    {
     "name": "stdout",
     "output_type": "stream",
     "text": [
      "OLS Training Score : 0.6879\n",
      "OLS Testing Score  : 0.6986\n",
      "OLS Train-Test Gap : 0.0107\n"
     ]
    }
   ],
   "source": [
    "# INSTANTIATING a model object\n",
    "lr = LinearRegression()\n",
    "\n",
    "\n",
    "# FITTING to the training data, \n",
    "lr_fit = lr.fit(x_train_OLS, y_train_OLS)\n",
    "\n",
    "\n",
    "# PREDICTING on new data\n",
    "lr_pred = lr_fit.predict(x_test_OLS)\n",
    "\n",
    "\n",
    "# SCORING the results\n",
    "print('OLS Training Score :', lr.score(x_train_OLS, y_train_OLS).round(4))  # using R-square\n",
    "print('OLS Testing Score  :',  lr.score(x_test_OLS, y_test_OLS).round(4)) # using R-square\n",
    "\n",
    "lr_train_score=  lr.score(x_train_OLS, y_train_OLS).round(4)\n",
    "lr_test_score= lr.score(x_test_OLS, y_test_OLS).round(4)\n",
    "\n",
    "# displaying and saving the gap between training and testing\n",
    "print('OLS Train-Test Gap :', abs(lr_train_score - lr_test_score).round(4))\n",
    "lr_test_gap = abs(lr_train_score - lr_test_score).round(4)"
   ]
  },
  {
   "cell_type": "markdown",
   "id": "c0e257fb",
   "metadata": {},
   "source": [
    "**When trying to use FULL data, the model showed over fitting as the testing score was lower than the training, and the gap was very high at 0.25**"
   ]
  },
  {
   "cell_type": "code",
   "execution_count": 65,
   "id": "965397ef",
   "metadata": {},
   "outputs": [
    {
     "name": "stdout",
     "output_type": "stream",
     "text": [
      "('intercept', 4378.07)\n",
      "('cigs', -38.4)\n",
      "('drink', -118.49)\n",
      "('fage', -13.44)\n",
      "('mblck', 14.84)\n",
      "('mwhte', 42.02)\n",
      "('moth', -56.86)\n",
      "('meduc', 40.37)\n"
     ]
    }
   ],
   "source": [
    "# zipping each feature name to its coefficient\n",
    "lr_model_values = zip(birth[x_var].columns,\n",
    "                      lr_fit.coef_.round(decimals = 2))\n",
    "\n",
    "\n",
    "# setting up a placeholder list to store model features\n",
    "lr_model_lst = [('intercept', lr_fit.intercept_.round(decimals = 2))]\n",
    "\n",
    "\n",
    "# printing out each feature-coefficient pair one by one\n",
    "for val in lr_model_values:\n",
    "    lr_model_lst.append(val)\n",
    "    \n",
    "\n",
    "# checking the results\n",
    "for pair in lr_model_lst:\n",
    "    print(pair)"
   ]
  },
  {
   "cell_type": "markdown",
   "id": "58fe4994",
   "metadata": {},
   "source": [
    "# Lasso Regression"
   ]
  },
  {
   "cell_type": "code",
   "execution_count": 66,
   "id": "c924e226",
   "metadata": {},
   "outputs": [
    {
     "name": "stdout",
     "output_type": "stream",
     "text": [
      "Lasso Training Score : 0.6859\n",
      "Lasso Testing Score  : 0.7145\n",
      "Lasso Train-Test Gap : 0.0286\n"
     ]
    }
   ],
   "source": [
    "#Instantiate Object, lasso with alpha 1\n",
    "lasso= sklearn.linear_model.Lasso(alpha=1.0, normalize=True)\n",
    "\n",
    "# Fit to the training data\n",
    "lasso_fit = lasso.fit(x_train_FULL, y_train_FULL)\n",
    "\n",
    "\n",
    "# Predict on test data\n",
    "lasso_pred = lasso_fit.predict(x_test_FULL)\n",
    "\n",
    "\n",
    "# Score the results\n",
    "print('Lasso Training Score :', lasso.score(x_train_FULL, y_train_FULL).round(4))\n",
    "print('Lasso Testing Score  :', lasso.score(x_test_FULL, y_test_FULL).round(4))\n",
    "\n",
    "# saving scoring data for future use\n",
    "lasso_train_score = lasso.score(x_train_FULL, y_train_FULL).round(4) # using R-square\n",
    "lasso_test_score  = lasso.score(x_test_FULL, y_test_FULL).round(4)   # using R-square\n",
    "\n",
    "\n",
    "# displaying and saving the gap between training and testing\n",
    "print('Lasso Train-Test Gap :', abs(lasso_train_score - lasso_test_score).round(4))\n",
    "lasso_test_gap = abs(lasso_train_score - lasso_test_score).round(4)"
   ]
  },
  {
   "cell_type": "code",
   "execution_count": 67,
   "id": "78b01d95",
   "metadata": {},
   "outputs": [
    {
     "name": "stdout",
     "output_type": "stream",
     "text": [
      "('intercept', 4484.811)\n",
      "('meduc', 29.2491)\n",
      "('fage', -12.7027)\n",
      "('cigs', -37.09)\n",
      "('drink', -115.6448)\n",
      "('mwhte', 0.0)\n",
      "('mblck', 0.0)\n",
      "('moth', -39.2055)\n"
     ]
    }
   ],
   "source": [
    "# zipping each feature name to its coefficient\n",
    "lasso_model_values = zip(birth_data.columns, lasso_fit.coef_.round(decimals = 4))\n",
    "\n",
    "\n",
    "# setting up a placeholder list to store model features\n",
    "lasso_model_lst = [('intercept', lasso_fit.intercept_.round(decimals = 4))]\n",
    "\n",
    "\n",
    "# printing out each feature-coefficient pair one by one\n",
    "for val in lasso_model_values:\n",
    "    lasso_model_lst.append(val)\n",
    "    \n",
    "\n",
    "# checking the results\n",
    "for pair in lasso_model_lst:\n",
    "    print(pair)\n",
    "    "
   ]
  },
  {
   "cell_type": "code",
   "execution_count": 68,
   "id": "9e51b45d",
   "metadata": {},
   "outputs": [
    {
     "name": "stdout",
     "output_type": "stream",
     "text": [
      "('intercept', 4484.811)\n",
      "('meduc', 29.2491)\n",
      "('fage', -12.7027)\n",
      "('cigs', -37.09)\n",
      "('drink', -115.6448)\n",
      "('mblck', 0.0)\n",
      "('moth', -39.2055)\n"
     ]
    }
   ],
   "source": [
    "# printing out each feature-coefficient pair one by one\n",
    "for feature, coefficient in lasso_model_lst:\n",
    "        \n",
    "        if coefficient == 0:\n",
    "            lasso_model_lst.remove((feature, coefficient))\n",
    "\n",
    "            \n",
    "# checking the results\n",
    "for pair in lasso_model_lst:\n",
    "    print(pair)"
   ]
  },
  {
   "cell_type": "markdown",
   "id": "c7ea4ff0",
   "metadata": {},
   "source": [
    "# ARD MODEL"
   ]
  },
  {
   "cell_type": "code",
   "execution_count": 69,
   "id": "3f82f0e6",
   "metadata": {},
   "outputs": [
    {
     "name": "stdout",
     "output_type": "stream",
     "text": [
      "Training Score: 0.6843\n",
      "Testing Score : 0.7216\n",
      "ARD Train-Test Gap : 0.0373\n"
     ]
    }
   ],
   "source": [
    "# INSTANTIATING a model object\n",
    "ard_model = sklearn.linear_model.ARDRegression()\n",
    "\n",
    "\n",
    "# FITTING the training data\n",
    "ard_fit = ard_model.fit(x_train_FULL,y_train_FULL)\n",
    "\n",
    "\n",
    "# PREDICTING on new data\n",
    "ard_pred = ard_fit.predict(x_test_FULL)\n",
    "\n",
    "\n",
    "print('Training Score:', ard_model.score(x_train_FULL,y_train_FULL).round(4))\n",
    "print('Testing Score :',  ard_model.score(x_test_FULL,y_test_FULL).round(4))\n",
    "\n",
    "\n",
    "# saving scoring data for future use\n",
    "ard_train_score = ard_model.score(x_train_FULL,y_train_FULL).round(4)\n",
    "ard_test_score  = ard_model.score(x_test_FULL,y_test_FULL).round(4)\n",
    "\n",
    "\n",
    "# displaying and saving the gap between training and testing\n",
    "print('ARD Train-Test Gap :', abs(ard_train_score - ard_test_score).round(4))\n",
    "ard_test_gap = abs(ard_train_score - ard_test_score).round(4)"
   ]
  },
  {
   "cell_type": "code",
   "execution_count": 70,
   "id": "46773ef0",
   "metadata": {},
   "outputs": [
    {
     "name": "stdout",
     "output_type": "stream",
     "text": [
      "('intercept', 4573.01)\n",
      "('mage', 24.13665)\n",
      "('meduc', -12.88274)\n",
      "('monpre', -38.25068)\n",
      "('npvis', -117.7261)\n",
      "('fage', 0.00106)\n",
      "('feduc', 0.00036)\n",
      "('omaps', -0.00226)\n"
     ]
    }
   ],
   "source": [
    "# zipping each feature name to its coefficient\n",
    "ard_model_values = zip(birth.columns, ard_fit.coef_.round(decimals = 5))\n",
    "\n",
    "\n",
    "# setting up a placeholder list to store model features\n",
    "ard_model_lst = [('intercept', ard_fit.intercept_.round(decimals = 2))]\n",
    "\n",
    "\n",
    "# printing out each feature-coefficient pair one by one\n",
    "for val in ard_model_values:\n",
    "    ard_model_lst.append(val)\n",
    "    \n",
    "\n",
    "# checking the results\n",
    "for pair in ard_model_lst:\n",
    "    print(pair)"
   ]
  },
  {
   "cell_type": "code",
   "execution_count": 71,
   "id": "25065224",
   "metadata": {},
   "outputs": [
    {
     "name": "stdout",
     "output_type": "stream",
     "text": [
      "('intercept', 4573.01)\n",
      "('mage', 24.13665)\n",
      "('meduc', -12.88274)\n",
      "('monpre', -38.25068)\n",
      "('npvis', -117.7261)\n",
      "('fage', 0.00106)\n",
      "('feduc', 0.00036)\n",
      "('omaps', -0.00226)\n"
     ]
    }
   ],
   "source": [
    "for feature, coefficient in ard_model_lst:\n",
    "        \n",
    "        if coefficient == 0:\n",
    "            ard_model_lst.remove((feature, coefficient))\n",
    "\n",
    "            \n",
    "# checking the results\n",
    "for pair in ard_model_lst:\n",
    "    print(pair)"
   ]
  },
  {
   "cell_type": "code",
   "execution_count": 72,
   "id": "354b9adf",
   "metadata": {},
   "outputs": [
    {
     "name": "stdout",
     "output_type": "stream",
     "text": [
      "\n",
      "Model    Train Score      Test Score            Train-Test Gap \n",
      "-----    -----------      ----------            ----------------\n",
      "OLS       0.6879\t\t    0.6986\t\t   0.0107\n",
      "Lasso     0.6859\t\t    0.7145\t\t   0.0286\n",
      "**ARD     0.6843\t\t    0.7216\t\t   0.0373\n",
      "\n",
      "** FINAL MODEL\n",
      "\n"
     ]
    }
   ],
   "source": [
    "# comparing results ADD COLUMN FOR GAP \n",
    "\n",
    "print(f\"\"\"\n",
    "Model    Train Score      Test Score            Train-Test Gap \n",
    "-----    -----------      ----------            ----------------\n",
    "OLS       {lr_train_score}\\t\\t    {lr_test_score}\\t\\t   {lr_test_gap}\n",
    "Lasso     {lasso_train_score}\\t\\t    {lasso_test_score}\\t\\t   {lasso_test_gap}\n",
    "**ARD     {ard_train_score}\\t\\t    {ard_test_score}\\t\\t   {ard_test_gap}\n",
    "\n",
    "** FINAL MODEL\n",
    "\"\"\")\n",
    "\n",
    "\n",
    "# creating a dictionary for model results\n",
    "model_performance = {\n",
    "    \n",
    "    'Model Type'    : ['OLS', 'Lasso', 'ARD'],\n",
    "           \n",
    "    'Training' : [lr_train_score, lasso_train_score,\n",
    "                                   ard_train_score],\n",
    "           \n",
    "    'Testing'  : [lr_test_score, lasso_test_score,\n",
    "                                   ard_test_score],\n",
    "                    \n",
    "    'Train-Test Gap' : [lr_test_gap, lasso_test_gap,\n",
    "                                        ard_test_gap],\n",
    "                    \n",
    "    'Model Size' : [len(lr_model_lst), len(lasso_model_lst),\n",
    "                                    len(ard_model_lst)],\n",
    "                    \n",
    "    'Model' : [lr_model_lst, lasso_model_lst, ard_model_lst]}\n",
    "\n",
    "\n",
    "# converting model_performance into a DataFrame\n",
    "birth_performance = pd.DataFrame(model_performance)\n",
    "\n",
    "\n",
    "# sending model results to Excel\n",
    "birth_performance.to_excel('/Users/mariuviloria/Desktop/MACHINE LEARNING/linear_birth_performance.xlsx',\n",
    "                           index = False)"
   ]
  },
  {
   "cell_type": "markdown",
   "id": "9074f056",
   "metadata": {},
   "source": [
    "I decided to try lasso and ARD in my data already cleaned and both seem to improve the weight given to each variable.\n",
    "\n",
    "Chosen model is ARD since is the highest R square value and the gap is still under 0.05"
   ]
  },
  {
   "cell_type": "code",
   "execution_count": null,
   "id": "c489db43",
   "metadata": {},
   "outputs": [],
   "source": []
  },
  {
   "cell_type": "code",
   "execution_count": null,
   "id": "e0364198",
   "metadata": {},
   "outputs": [],
   "source": []
  },
  {
   "cell_type": "code",
   "execution_count": null,
   "id": "06391f95",
   "metadata": {},
   "outputs": [],
   "source": []
  }
 ],
 "metadata": {
  "kernelspec": {
   "display_name": "Python 3 (ipykernel)",
   "language": "python",
   "name": "python3"
  },
  "language_info": {
   "codemirror_mode": {
    "name": "ipython",
    "version": 3
   },
   "file_extension": ".py",
   "mimetype": "text/x-python",
   "name": "python",
   "nbconvert_exporter": "python",
   "pygments_lexer": "ipython3",
   "version": "3.8.5"
  },
  "toc": {
   "base_numbering": 1,
   "nav_menu": {},
   "number_sections": true,
   "sideBar": true,
   "skip_h1_title": false,
   "title_cell": "Table of Contents",
   "title_sidebar": "Contents",
   "toc_cell": false,
   "toc_position": {},
   "toc_section_display": true,
   "toc_window_display": false
  },
  "varInspector": {
   "cols": {
    "lenName": 16,
    "lenType": 16,
    "lenVar": 40
   },
   "kernels_config": {
    "python": {
     "delete_cmd_postfix": "",
     "delete_cmd_prefix": "del ",
     "library": "var_list.py",
     "varRefreshCmd": "print(var_dic_list())"
    },
    "r": {
     "delete_cmd_postfix": ") ",
     "delete_cmd_prefix": "rm(",
     "library": "var_list.r",
     "varRefreshCmd": "cat(var_dic_list()) "
    }
   },
   "types_to_exclude": [
    "module",
    "function",
    "builtin_function_or_method",
    "instance",
    "_Feature"
   ],
   "window_display": false
  }
 },
 "nbformat": 4,
 "nbformat_minor": 5
}
